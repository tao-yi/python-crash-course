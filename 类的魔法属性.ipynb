{
 "cells": [
  {
   "cell_type": "markdown",
   "id": "6264068a-d25b-4c66-92c1-6b079eaed745",
   "metadata": {},
   "source": [
    "## Python的类属性存在一些具有特殊含义的属性\n",
    "\n",
    "- `__doc__`: 表示类的描述信息\n",
    "- `__module__`: 表示当前操作的对象在哪个模块\n",
    "- `__class__`: 表示当前操作的对象的类是什么\n",
    "- `__init__`: 创建类实例时自动执行\n",
    "- `__del__`: 当前对象在内存中被释放之前，自动执行\n",
    "- `__call__`: 将对象当做函数执行，对象后面加括号，触发执行\n"
   ]
  },
  {
   "cell_type": "code",
   "execution_count": 9,
   "id": "8929452a-764e-4121-ad12-91cddae4b677",
   "metadata": {},
   "outputs": [
    {
     "name": "stdout",
     "output_type": "stream",
     "text": [
      "描述类的信息\n",
      "__main__\n",
      "<class 'type'>\n",
      "call 123\n"
     ]
    }
   ],
   "source": [
    "class Foo:\n",
    "    \"\"\"描述类的信息\"\"\"\n",
    "    def func(self):\n",
    "        pass\n",
    "    \n",
    "    def __call__(self, *args, **kwargs):\n",
    "        print('call', *args, **kwargs)\n",
    "    \n",
    "print(Foo.__doc__)\n",
    "\n",
    "# 如果是直接执行这个py文件，那么这个py文件的模块名一定是 __main__ 而不是py文件的名字\n",
    "print(Foo.__module__)\n",
    "print(Foo.__class__)\n",
    "\n",
    "a = Foo()\n",
    "a(123)"
   ]
  },
  {
   "cell_type": "markdown",
   "id": "e71bf1ad-d25a-44bd-95c7-ecb20c244510",
   "metadata": {},
   "source": [
    "### 动态给实例对象添加方法和属性\n"
   ]
  },
  {
   "cell_type": "code",
   "execution_count": 14,
   "id": "5024766e-2ada-44d7-a14c-d67969858d08",
   "metadata": {},
   "outputs": [
    {
     "name": "stdout",
     "output_type": "stream",
     "text": [
      "new test\n"
     ]
    }
   ],
   "source": [
    "import types\n",
    "\n",
    "class A:\n",
    "    pass\n",
    "\n",
    "a = A()\n",
    "A.address = 'hello'\n",
    "\n",
    "def test(self):\n",
    "    print('new test')\n",
    "\n",
    "\n",
    "a.test = types.MethodType(test, a)\n",
    "a.test()"
   ]
  }
 ],
 "metadata": {
  "kernelspec": {
   "display_name": "Python 3 (ipykernel)",
   "language": "python",
   "name": "python3"
  },
  "language_info": {
   "codemirror_mode": {
    "name": "ipython",
    "version": 3
   },
   "file_extension": ".py",
   "mimetype": "text/x-python",
   "name": "python",
   "nbconvert_exporter": "python",
   "pygments_lexer": "ipython3",
   "version": "3.9.9"
  }
 },
 "nbformat": 4,
 "nbformat_minor": 5
}
