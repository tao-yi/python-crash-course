{
 "cells": [
  {
   "cell_type": "markdown",
   "id": "b8fbce48-691d-40f7-8d1a-15739b1ef0b8",
   "metadata": {
    "tags": []
   },
   "source": [
    "### Python3 基础语法\n",
    "\n",
    "#### 编码\n",
    "默认情况下, Python3源码文件以UTF-8编码，所有字符串都是unicode字符，当然你也可以为源码文件指定不同的编码:\n",
    "\n",
    "```shell\n",
    "# -*- coding: cp-1252 -*-\n",
    "```"
   ]
  },
  {
   "cell_type": "code",
   "execution_count": 2,
   "id": "99d9fedb-cb13-48fb-af3a-a72df0d605de",
   "metadata": {
    "collapsed": true,
    "jupyter": {
     "outputs_hidden": true
    },
    "tags": []
   },
   "outputs": [
    {
     "data": {
      "text/plain": [
       "['False',\n",
       " 'None',\n",
       " 'True',\n",
       " '__peg_parser__',\n",
       " 'and',\n",
       " 'as',\n",
       " 'assert',\n",
       " 'async',\n",
       " 'await',\n",
       " 'break',\n",
       " 'class',\n",
       " 'continue',\n",
       " 'def',\n",
       " 'del',\n",
       " 'elif',\n",
       " 'else',\n",
       " 'except',\n",
       " 'finally',\n",
       " 'for',\n",
       " 'from',\n",
       " 'global',\n",
       " 'if',\n",
       " 'import',\n",
       " 'in',\n",
       " 'is',\n",
       " 'lambda',\n",
       " 'nonlocal',\n",
       " 'not',\n",
       " 'or',\n",
       " 'pass',\n",
       " 'raise',\n",
       " 'return',\n",
       " 'try',\n",
       " 'while',\n",
       " 'with',\n",
       " 'yield']"
      ]
     },
     "execution_count": 2,
     "metadata": {},
     "output_type": "execute_result"
    }
   ],
   "source": [
    "# Python标准库提供了一个keyword模块，可以输出当前版本的所有关键字\n",
    "import keyword\n",
    "\n",
    "keyword.kwlist"
   ]
  },
  {
   "cell_type": "markdown",
   "id": "a29cdef2-6c9f-4468-955e-42edb16d2935",
   "metadata": {},
   "source": [
    "### 基本数据类型\n",
    "\n",
    "Python3中有六个标准的数据类型：\n",
    "\n",
    "- `Number`\n",
    "- `String`\n",
    "- `List`\n",
    "- `Tuple`\n",
    "- `Set`\n",
    "- `Dictionary`\n",
    "\n",
    "Python3的六个标准数据类型中:\n",
    "- *不可变数据*: Number, String, Tuple\n",
    "- *可变数据*: List, Dictionary, Set\n",
    "\n",
    "### Number类型\n",
    "Python支持 int, float, bool, complex 4种Number类型"
   ]
  },
  {
   "cell_type": "code",
   "execution_count": 4,
   "id": "3fabff15-192a-4db9-a22d-533b224d8e22",
   "metadata": {},
   "outputs": [
    {
     "name": "stdout",
     "output_type": "stream",
     "text": [
      "<class 'int'> <class 'float'> <class 'bool'> <class 'complex'>\n"
     ]
    }
   ],
   "source": [
    "a, b, c, d = 20, 5.5, True, 4+3j\n",
    "print(type(a), type(b), type(c), type(d))"
   ]
  },
  {
   "cell_type": "code",
   "execution_count": 19,
   "id": "15bcf0cc-6907-4b89-a3a3-ec7c78ebd380",
   "metadata": {
    "collapsed": true,
    "jupyter": {
     "outputs_hidden": true
    },
    "tags": []
   },
   "outputs": [
    {
     "name": "stdout",
     "output_type": "stream",
     "text": [
      "True\n",
      "True\n",
      "2\n",
      "1\n",
      "True\n",
      "True\n",
      "True\n"
     ]
    }
   ],
   "source": [
    "# 在Python3中，bool是int的子类\n",
    "print(isinstance(True, int))\n",
    "print(issubclass(bool, int))\n",
    "\n",
    "# 因此，True和False可以和数字相加\n",
    "print(True+1)\n",
    "print(False+1)\n",
    "\n",
    "print(True == bool(1))\n",
    "print(int(True) == 1)\n",
    "print(int(False) == 0)"
   ]
  },
  {
   "cell_type": "markdown",
   "id": "bd9863b2-d08c-40c5-9670-b309630905ba",
   "metadata": {},
   "source": [
    "`isinstane()` 和 `type()` 的区别在于：\n",
    "- type() 不会认为子类对象是父类类型\n",
    "- isinstance() 会认为子类对象也是父类的实例"
   ]
  }
 ],
 "metadata": {
  "kernelspec": {
   "display_name": "Python 3 (ipykernel)",
   "language": "python",
   "name": "python3"
  },
  "language_info": {
   "codemirror_mode": {
    "name": "ipython",
    "version": 3
   },
   "file_extension": ".py",
   "mimetype": "text/x-python",
   "name": "python",
   "nbconvert_exporter": "python",
   "pygments_lexer": "ipython3",
   "version": "3.9.9"
  }
 },
 "nbformat": 4,
 "nbformat_minor": 5
}
