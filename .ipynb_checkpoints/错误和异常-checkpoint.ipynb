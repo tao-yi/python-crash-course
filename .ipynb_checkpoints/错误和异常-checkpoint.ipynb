{
 "cells": [
  {
   "cell_type": "markdown",
   "id": "448755fa-75a0-466e-8c9e-db1efbe6d758",
   "metadata": {},
   "source": [
    "### 异常\n",
    "\n",
    "运行期检测到的错误被称为异常。\n",
    "\n",
    "### 异常处理\n",
    "`try/except`\n"
   ]
  },
  {
   "cell_type": "code",
   "execution_count": 5,
   "id": "559e8974-f7bf-45ab-bf63-e34f9fe95ddb",
   "metadata": {},
   "outputs": [
    {
     "name": "stdin",
     "output_type": "stream",
     "text": [
      "请输入一个数字 a\n"
     ]
    },
    {
     "name": "stdout",
     "output_type": "stream",
     "text": [
      "输入的不是数字，请重新输入\n"
     ]
    },
    {
     "name": "stdin",
     "output_type": "stream",
     "text": [
      "请输入一个数字 1\n"
     ]
    }
   ],
   "source": [
    "while True:\n",
    "    try:\n",
    "        x = int(input('请输入一个数字'))\n",
    "        break\n",
    "    except ValueError:\n",
    "        print('输入的不是数字，请重新输入')"
   ]
  },
  {
   "cell_type": "markdown",
   "id": "c2926fe3-41ba-47c7-96de-e895927922a1",
   "metadata": {},
   "source": [
    "### except\n",
    "\n",
    "一个except子句可以同时处理多个异常，这些异常将被放在一个括号里成为一个元组，例如:\n",
    "\n",
    "```py\n",
    "except (RuntimeError, TypeError, NameError):\n",
    "    pass\n",
    "```\n",
    "\n",
    "- 最后一个except可以忽略异常的名字，它将被当做通配符使用。\n",
    "- 如果try子句没有发生任何异常情况，将执行else子句"
   ]
  },
  {
   "cell_type": "code",
   "execution_count": 12,
   "id": "2dabcebe-59b7-4cd9-ac0a-70eb7158add7",
   "metadata": {},
   "outputs": [
    {
     "name": "stdout",
     "output_type": "stream",
     "text": [
      "successfully read # global variable\n"
     ]
    }
   ],
   "source": [
    "import sys\n",
    "\n",
    "try:\n",
    "    f = open('./scope.py')\n",
    "    s = f.readline()\n",
    "    s = s.strip()\n",
    "except OSError as err:\n",
    "    print(f\"OS error: {err}\")\n",
    "except ValueError:\n",
    "    print(\"Could not convert data to an integer.\")\n",
    "except:\n",
    "    print(\"Unexpected error:\", sys.exec_info()[0])\n",
    "    raise\n",
    "else:\n",
    "    print(\"successfully read\", s)"
   ]
  },
  {
   "cell_type": "markdown",
   "id": "08c45a46-211f-422c-8de8-49993d058ad4",
   "metadata": {},
   "source": [
    "### 抛出异常\n",
    "\n",
    "Python使用 `raise` 语句抛出一个异常。"
   ]
  },
  {
   "cell_type": "code",
   "execution_count": 14,
   "id": "22f5fafd-dcbf-4dd9-b043-9d81ce85d589",
   "metadata": {},
   "outputs": [
    {
     "ename": "Exception",
     "evalue": "('x 不能大于 5', 10)",
     "output_type": "error",
     "traceback": [
      "\u001b[0;31m---------------------------------------------------------------------------\u001b[0m",
      "\u001b[0;31mException\u001b[0m                                 Traceback (most recent call last)",
      "Input \u001b[0;32mIn [14]\u001b[0m, in \u001b[0;36m<cell line: 2>\u001b[0;34m()\u001b[0m\n\u001b[1;32m      1\u001b[0m x \u001b[38;5;241m=\u001b[39m \u001b[38;5;241m10\u001b[39m\n\u001b[1;32m      2\u001b[0m \u001b[38;5;28;01mif\u001b[39;00m x \u001b[38;5;241m>\u001b[39m \u001b[38;5;241m5\u001b[39m:\n\u001b[0;32m----> 3\u001b[0m     \u001b[38;5;28;01mraise\u001b[39;00m \u001b[38;5;167;01mException\u001b[39;00m(\u001b[38;5;124m'\u001b[39m\u001b[38;5;124mx 不能大于 5\u001b[39m\u001b[38;5;124m'\u001b[39m, x)\n",
      "\u001b[0;31mException\u001b[0m: ('x 不能大于 5', 10)"
     ]
    }
   ],
   "source": [
    "x = 10\n",
    "if x > 5:\n",
    "    raise Exception('x 不能大于 5', x)"
   ]
  },
  {
   "cell_type": "markdown",
   "id": "0a557aac-beed-4117-b179-b50142c51f46",
   "metadata": {},
   "source": [
    "**如果你只想知道是否抛出了一个异常，并不想处理它，那么可以继续 `raise` 将它抛出**"
   ]
  },
  {
   "cell_type": "code",
   "execution_count": 16,
   "id": "cba58a30-db86-4f2c-8ccf-6b0ee5422f63",
   "metadata": {},
   "outputs": [
    {
     "name": "stdout",
     "output_type": "stream",
     "text": [
      "发现一个异常\n"
     ]
    },
    {
     "ename": "NameError",
     "evalue": "HiThere",
     "output_type": "error",
     "traceback": [
      "\u001b[0;31m---------------------------------------------------------------------------\u001b[0m",
      "\u001b[0;31mNameError\u001b[0m                                 Traceback (most recent call last)",
      "Input \u001b[0;32mIn [16]\u001b[0m, in \u001b[0;36m<cell line: 1>\u001b[0;34m()\u001b[0m\n\u001b[1;32m      1\u001b[0m \u001b[38;5;28;01mtry\u001b[39;00m:\n\u001b[0;32m----> 2\u001b[0m     \u001b[38;5;28;01mraise\u001b[39;00m \u001b[38;5;167;01mNameError\u001b[39;00m(\u001b[38;5;124m'\u001b[39m\u001b[38;5;124mHiThere\u001b[39m\u001b[38;5;124m'\u001b[39m)\n\u001b[1;32m      3\u001b[0m \u001b[38;5;28;01mexcept\u001b[39;00m:\n\u001b[1;32m      4\u001b[0m     \u001b[38;5;28mprint\u001b[39m(\u001b[38;5;124m'\u001b[39m\u001b[38;5;124m发现一个异常\u001b[39m\u001b[38;5;124m'\u001b[39m)\n",
      "\u001b[0;31mNameError\u001b[0m: HiThere"
     ]
    }
   ],
   "source": [
    "try:\n",
    "    raise NameError('HiThere')\n",
    "except:\n",
    "    print('发现一个异常')\n",
    "    raise"
   ]
  },
  {
   "cell_type": "markdown",
   "id": "2f139dfa-7cc9-4868-8d6c-a244512674bd",
   "metadata": {},
   "source": [
    "### 自定义异常\n",
    "\n",
    "你可以通过继承Exception类来创建一个新的自定义异常类，可以直接继承或者间接继承\n",
    "\n",
    "```py\n",
    "class MyError(Exception):\n",
    "```"
   ]
  },
  {
   "cell_type": "code",
   "execution_count": 19,
   "id": "bcffb9b8-2fc5-4d5d-819d-216d906a8669",
   "metadata": {},
   "outputs": [
    {
     "name": "stdout",
     "output_type": "stream",
     "text": [
      "my exception occurred, value: 4\n"
     ]
    }
   ],
   "source": [
    "class MyError(Exception):\n",
    "    def __init__(self, value):\n",
    "        self.value = value\n",
    "    def __str__(self):\n",
    "        return repr(self.value)\n",
    "    \n",
    "try:\n",
    "    raise MyError(2*2)\n",
    "except MyError as e:\n",
    "    print(\"my exception occurred, value:\", e.value)"
   ]
  },
  {
   "cell_type": "code",
   "execution_count": 21,
   "id": "9a3fecd9-5737-4c11-8c83-89654ba2dc7a",
   "metadata": {},
   "outputs": [],
   "source": [
    "class Error(Exception):\n",
    "    \"\"\"Base class for exceptions in this module.\"\"\"\n",
    "    pass\n",
    "\n",
    "\n",
    "class InputError(Error):\n",
    "    def __init__(self, expression: str, message: str):\n",
    "        self.expression = expression\n",
    "        self.message = message\n",
    "\n",
    "\n",
    "class TransitionError(Error):\n",
    "    def __init__(self, previous, next, message) -> None:\n",
    "        self.previouse = previous\n",
    "        self.next = next\n",
    "        self.message = message"
   ]
  },
  {
   "cell_type": "markdown",
   "id": "d7d090b5-5f39-497b-86a6-f27564edaec1",
   "metadata": {},
   "source": [
    "### assert\n",
    "\n",
    "`assert` 用于判断一个表达式，在表达式条件为false的时候触发异常\n",
    "断言可以再条件不满足程序运行条件下直接返回错误，而不必等待程序运行后出现崩溃的情况"
   ]
  },
  {
   "cell_type": "code",
   "execution_count": 24,
   "id": "18067906-879c-43b7-86fe-9b5d2ad925d6",
   "metadata": {},
   "outputs": [
    {
     "ename": "AssertionError",
     "evalue": "",
     "output_type": "error",
     "traceback": [
      "\u001b[0;31m---------------------------------------------------------------------------\u001b[0m",
      "\u001b[0;31mAssertionError\u001b[0m                            Traceback (most recent call last)",
      "Input \u001b[0;32mIn [24]\u001b[0m, in \u001b[0;36m<cell line: 2>\u001b[0;34m()\u001b[0m\n\u001b[1;32m      1\u001b[0m \u001b[38;5;28;01massert\u001b[39;00m \u001b[38;5;28;01mTrue\u001b[39;00m\n\u001b[0;32m----> 2\u001b[0m \u001b[38;5;28;01massert\u001b[39;00m \u001b[38;5;28;01mFalse\u001b[39;00m\n",
      "\u001b[0;31mAssertionError\u001b[0m: "
     ]
    }
   ],
   "source": [
    "assert True\n",
    "assert False # 抛出AssertionError"
   ]
  },
  {
   "cell_type": "code",
   "execution_count": 28,
   "id": "08a016da-73c0-4af1-9b4c-51eb5594643c",
   "metadata": {},
   "outputs": [
    {
     "ename": "AssertionError",
     "evalue": "only works in Linux",
     "output_type": "error",
     "traceback": [
      "\u001b[0;31m---------------------------------------------------------------------------\u001b[0m",
      "\u001b[0;31mAssertionError\u001b[0m                            Traceback (most recent call last)",
      "Input \u001b[0;32mIn [28]\u001b[0m, in \u001b[0;36m<cell line: 2>\u001b[0;34m()\u001b[0m\n\u001b[1;32m      1\u001b[0m \u001b[38;5;28;01mimport\u001b[39;00m \u001b[38;5;21;01msys\u001b[39;00m\n\u001b[0;32m----> 2\u001b[0m \u001b[38;5;28;01massert\u001b[39;00m(\u001b[38;5;124m'\u001b[39m\u001b[38;5;124mlinux\u001b[39m\u001b[38;5;124m'\u001b[39m \u001b[38;5;129;01min\u001b[39;00m sys\u001b[38;5;241m.\u001b[39mplatform), \u001b[38;5;124m'\u001b[39m\u001b[38;5;124monly works in Linux\u001b[39m\u001b[38;5;124m'\u001b[39m\n",
      "\u001b[0;31mAssertionError\u001b[0m: only works in Linux"
     ]
    }
   ],
   "source": [
    "import sys\n",
    "assert('linux' in sys.platform), 'only works in Linux'"
   ]
  },
  {
   "cell_type": "markdown",
   "id": "1561728f-9b3c-4e46-a8da-da5e9979678c",
   "metadata": {},
   "source": [
    "### `with` 关键字\n",
    "\n",
    "Python中的`with` 语句用于异常处理，封装了 `try/except/finally` 编码范式，提供了易用性。\n",
    "\n",
    "简化了文件流等公共资源的管理，在处理文件对象时最好使用 `with` 语句。\n",
    "\n",
    "```python\n",
    "file = open('./abc.txt', 'w')\n",
    "file.write('hello')\n",
    "file.close()\n",
    "```\n",
    "以上代码如果在调用 `write()` 过程中抛出异常，则`close()`方法将无法执行，资源就会一直被该程序占用而无法释放。\n",
    "\n",
    "```python\n",
    "file = open('./abc', 'w')\n",
    "try:\n",
    "    file.write('hello')\n",
    "finally:\n",
    "    file.close()\n",
    "```\n",
    "\n",
    "以上代码对可能发生的异常进行捕获，无论任何情况下都会执行finally，所以资源会被正确释放。"
   ]
  },
  {
   "cell_type": "code",
   "execution_count": 29,
   "id": "66331b31-8bbb-4540-a0d6-1ff5183a31d2",
   "metadata": {},
   "outputs": [],
   "source": [
    "# 也可以使用 with 简化上面的这个操作\n",
    "with open('./abc.txt', 'w') as file:\n",
    "    file.write('hello')"
   ]
  },
  {
   "cell_type": "code",
   "execution_count": null,
   "id": "4b0d3535-0326-4a7c-834f-9be2dabcb05a",
   "metadata": {},
   "outputs": [],
   "source": [
    "使用with语句系统会自动调用 `f.close()` 方法，with的作用等效于 `try/finally`\n",
    "\n",
    "with语句的实现原理建立在上下文管理器之上。\n",
    "\n",
    "**上下文管理器**是一个实现了 `__enter__` 和 `__exit__` 方法的类。\n"
   ]
  }
 ],
 "metadata": {
  "kernelspec": {
   "display_name": "Python 3 (ipykernel)",
   "language": "python",
   "name": "python3"
  },
  "language_info": {
   "codemirror_mode": {
    "name": "ipython",
    "version": 3
   },
   "file_extension": ".py",
   "mimetype": "text/x-python",
   "name": "python",
   "nbconvert_exporter": "python",
   "pygments_lexer": "ipython3",
   "version": "3.9.9"
  }
 },
 "nbformat": 4,
 "nbformat_minor": 5
}
