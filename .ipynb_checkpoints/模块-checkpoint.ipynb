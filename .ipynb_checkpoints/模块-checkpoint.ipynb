{
 "cells": [
  {
   "cell_type": "markdown",
   "id": "b2f1be20-e872-4b03-90f2-be01d4bc67c9",
   "metadata": {},
   "source": [
    "### 模块\n",
    "\n",
    "模块时一个包含所有你定义的函数和变量的文件，其后缀名是 `.py`\n",
    "\n",
    "模块可以被别的程序引入，以使用该模块中的功能。\n",
    "\n",
    "#### `import` 语句\n",
    "\n",
    "当解释器遇到import语句，如果模块在当前搜索路径就会被导入。\n",
    "\n",
    "```py\n",
    "import sys\n",
    "```\n",
    "\n",
    "导入sys模块后，我们就有一个变量 `sys` 指向该模块，利用`sys`这个变量，就可以访问`sys`模块的所有功能。\n",
    "\n",
    "\n",
    "一个模块只会被导入一次，不管你执行了多少次`import`。这样可以防止导入模块被一遍又一遍地执行。\n",
    "\n",
    "当我们使用import语句的时候，Python解释器是怎样找到对应的文件的呢？\n",
    "这就设计到python的搜索路径，搜索路径是由一系列目录名组成的，Python解释器就依次从这些目录中取寻找所引入的模块。\n",
    "这看起来很像环境变量，实际上你也可以通过定义环境变量的方式来修改搜索路径。\n"
   ]
  },
  {
   "cell_type": "code",
   "execution_count": 2,
   "id": "2a20f527-b246-4046-a2d8-dad9254b10b8",
   "metadata": {},
   "outputs": [
    {
     "name": "stdout",
     "output_type": "stream",
     "text": [
      "['/Users/yitao/python-crash-course', '/usr/local/Cellar/python@3.9/3.9.9/Frameworks/Python.framework/Versions/3.9/lib/python39.zip', '/usr/local/Cellar/python@3.9/3.9.9/Frameworks/Python.framework/Versions/3.9/lib/python3.9', '/usr/local/Cellar/python@3.9/3.9.9/Frameworks/Python.framework/Versions/3.9/lib/python3.9/lib-dynload', '', '/usr/local/lib/python3.9/site-packages']\n"
     ]
    }
   ],
   "source": [
    "import sys\n",
    "print(sys.path)"
   ]
  },
  {
   "cell_type": "markdown",
   "id": "4262751e-a3bf-468c-9bc4-7f8e9432150d",
   "metadata": {},
   "source": [
    "### 深入模块\n",
    "\n",
    "#### `__name__` 属性\n",
    "\n",
    "模块除了方法定义，还可以包扩可执行的代码。这些代码一般用来初始化这个模块。**这些代码只有在第一次被导入时才会被执行**。\n",
    "\n",
    "一个模块被另一个程序第一次引入时，其主程序将运行。如果我们想在模块被引入时，模块中的某一段程序不执行，我们可以用 `__name__` 属性来进行判断，确保代码块只在该模块自身运行时执行。\n",
    "\n",
    "> 每一个模块都有一个 `__name__` 属性，当它的值是 `__main__` 时表示该模块自身在运行，否则表示被引入。"
   ]
  },
  {
   "cell_type": "code",
   "execution_count": 3,
   "id": "6d30a298-0540-4cf1-b7a4-55d4d49c5961",
   "metadata": {},
   "outputs": [
    {
     "name": "stdout",
     "output_type": "stream",
     "text": [
      "程序自身在运行\n"
     ]
    }
   ],
   "source": [
    "if __name__ == '__main__':\n",
    "    print(\"程序自身在运行\")\n",
    "else:\n",
    "    print('被另一个程序引入而执行')"
   ]
  },
  {
   "cell_type": "markdown",
   "id": "937d1b46-fe8f-411a-a316-08dbca8736fb",
   "metadata": {},
   "source": [
    "### 包Package\n",
    "\n",
    "包是一种管理Python模块命名空间的形式。\n",
    "\n",
    "比如一个模块的名称是 `A.B` 说明它是一个包 `A` 中的一个子模块 `B`。\n",
    "\n",
    "```\n",
    "sound/                          顶层包\n",
    "      __init__.py               初始化 sound 包\n",
    "      formats/                  文件格式转换子包\n",
    "              __init__.py\n",
    "              wavread.py\n",
    "              wavwrite.py\n",
    "              aiffread.py\n",
    "              aiffwrite.py\n",
    "              auread.py\n",
    "              auwrite.py\n",
    "              ...\n",
    "      effects/                  声音效果子包\n",
    "              __init__.py\n",
    "              echo.py\n",
    "              surround.py\n",
    "              reverse.py\n",
    "              ...\n",
    "      filters/                  filters 子包\n",
    "              __init__.py\n",
    "              equalizer.py\n",
    "              vocoder.py\n",
    "              karaoke.py\n",
    "              ...\n",
    "```\n",
    "\n",
    "在导入一个包的时候，Python会根据`sys.path`中的目录来寻找这个包中包含的子目录。\n",
    "\n",
    "目录只有包含一个 `__init__.py` 的文件才会被认作是一个包，主要是为了避免一些其他文件不小心影响到搜索路径中的有效模块。\n",
    "\n",
    "最简单的情况，你只需要创建一个空文件 `__init__.py` 就可以了，其他情况下你也可以写一些初始化代码或者为 `__all__` 变量赋值。"
   ]
  }
 ],
 "metadata": {
  "kernelspec": {
   "display_name": "Python 3 (ipykernel)",
   "language": "python",
   "name": "python3"
  },
  "language_info": {
   "codemirror_mode": {
    "name": "ipython",
    "version": 3
   },
   "file_extension": ".py",
   "mimetype": "text/x-python",
   "name": "python",
   "nbconvert_exporter": "python",
   "pygments_lexer": "ipython3",
   "version": "3.9.9"
  }
 },
 "nbformat": 4,
 "nbformat_minor": 5
}
