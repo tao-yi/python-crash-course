{
 "cells": [
  {
   "cell_type": "markdown",
   "id": "ec6af313-0fd4-464b-8a85-689278633259",
   "metadata": {},
   "source": [
    "### @property属性\n",
    "\n",
    "在Python3中可以使用@property帮助我们生成getter和setter，deleter\n",
    "\n"
   ]
  },
  {
   "cell_type": "code",
   "execution_count": 3,
   "id": "aa845655-7e1c-406a-9d0c-8908a45a1711",
   "metadata": {},
   "outputs": [
    {
     "name": "stdout",
     "output_type": "stream",
     "text": [
      "price getter\n",
      "1\n",
      "price setter\n",
      "price deleter\n"
     ]
    }
   ],
   "source": [
    "class Goods:\n",
    "    def __init__(self, price: int):\n",
    "        self.__price = price\n",
    "\n",
    "    @property\n",
    "    def price(self):\n",
    "        print('price getter')\n",
    "        return self.__price\n",
    "\n",
    "    @price.setter\n",
    "    def price(self, val: int):\n",
    "        print('price setter')\n",
    "        self.__price = val\n",
    "\n",
    "    @price.deleter\n",
    "    def price(self):\n",
    "        print('price deleter')\n",
    "\n",
    "\n",
    "p = Goods(1)\n",
    "print(p.price) # 自动调用getter\n",
    "p.price = 5    # 自动调用setter\n",
    "del p.price    # 自动调用deleter"
   ]
  }
 ],
 "metadata": {
  "kernelspec": {
   "display_name": "Python 3 (ipykernel)",
   "language": "python",
   "name": "python3"
  },
  "language_info": {
   "codemirror_mode": {
    "name": "ipython",
    "version": 3
   },
   "file_extension": ".py",
   "mimetype": "text/x-python",
   "name": "python",
   "nbconvert_exporter": "python",
   "pygments_lexer": "ipython3",
   "version": "3.9.9"
  }
 },
 "nbformat": 4,
 "nbformat_minor": 5
}
