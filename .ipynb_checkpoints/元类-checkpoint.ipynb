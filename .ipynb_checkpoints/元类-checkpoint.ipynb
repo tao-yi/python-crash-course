{
 "cells": [
  {
   "cell_type": "markdown",
   "id": "ab3592a4-2132-46d9-8157-1ebb8b9359e5",
   "metadata": {},
   "source": [
    "### 元类\n",
    "\n",
    "类也是对象，在大多数编程语言中，类就是一组用来描述如何生成一个对象的代码段。\n",
    "\n"
   ]
  }
 ],
 "metadata": {
  "kernelspec": {
   "display_name": "Python 3 (ipykernel)",
   "language": "python",
   "name": "python3"
  },
  "language_info": {
   "codemirror_mode": {
    "name": "ipython",
    "version": 3
   },
   "file_extension": ".py",
   "mimetype": "text/x-python",
   "name": "python",
   "nbconvert_exporter": "python",
   "pygments_lexer": "ipython3",
   "version": "3.9.9"
  }
 },
 "nbformat": 4,
 "nbformat_minor": 5
}
