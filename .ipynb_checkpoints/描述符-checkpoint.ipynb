{
 "cells": [
  {
   "cell_type": "markdown",
   "id": "a147a8fb-3c97-4aba-8c51-c3705ffef031",
   "metadata": {},
   "source": [
    "### 描述符\n",
    "\n",
    "\n",
    "#### `__getattr__`\n",
    "\n",
    "重写 `__getattr__` 方法对类及其实例 `未定义的属性` 有效。\n"
   ]
  }
 ],
 "metadata": {
  "kernelspec": {
   "display_name": "Python 3 (ipykernel)",
   "language": "python",
   "name": "python3"
  },
  "language_info": {
   "codemirror_mode": {
    "name": "ipython",
    "version": 3
   },
   "file_extension": ".py",
   "mimetype": "text/x-python",
   "name": "python",
   "nbconvert_exporter": "python",
   "pygments_lexer": "ipython3",
   "version": "3.9.9"
  }
 },
 "nbformat": 4,
 "nbformat_minor": 5
}
