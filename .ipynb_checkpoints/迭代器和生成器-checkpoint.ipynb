{
 "cells": [
  {
   "cell_type": "markdown",
   "id": "b919672a-4fc6-42aa-851c-f872736e6b0a",
   "metadata": {},
   "source": [
    "### 迭代器\n",
    "\n",
    "迭代器是一个可以记住遍历的位置的对象。\n",
    "- 迭代器对象从集合的第一个元素开始访问，直到所有的元素被访问完结束。\n",
    "- 迭代器只能往前不能后退\n",
    "- 迭代器有两个基本的方法: `iter()` 和 `next()`\n",
    "\n",
    "字符串，列表或元组对象都可以用于创建迭代器。"
   ]
  },
  {
   "cell_type": "code",
   "execution_count": 2,
   "id": "a8c8b96d-1087-469d-bf4c-e0b9a884da87",
   "metadata": {},
   "outputs": [
    {
     "name": "stdout",
     "output_type": "stream",
     "text": [
      "<class 'list_iterator'>\n",
      "1\n",
      "2\n"
     ]
    }
   ],
   "source": [
    "list = [1,2,3,4]\n",
    "it = iter(list) # 创建迭代器对象\n",
    "print(type(it))\n",
    "\n",
    "print(next(it))\n",
    "print(next(it))"
   ]
  },
  {
   "cell_type": "code",
   "execution_count": 4,
   "id": "d08b535b-549d-43f9-aa07-8d37e56c58e0",
   "metadata": {},
   "outputs": [
    {
     "name": "stdout",
     "output_type": "stream",
     "text": [
      "1 2 3 4 "
     ]
    }
   ],
   "source": [
    "# 迭代器对象可以使用常规for语句进行遍历\n",
    "\n",
    "l = [1,2,3,4]\n",
    "for x in iter(l):\n",
    "    print(x, end=\" \")"
   ]
  },
  {
   "cell_type": "markdown",
   "id": "cc2d19a5-31fe-4f49-8b23-5d97eb4a1986",
   "metadata": {},
   "source": [
    "### StopIteration\n",
    "\n",
    "StopIteration异常用于标识迭代的完成，防止出现无限循环的情况。"
   ]
  },
  {
   "cell_type": "code",
   "execution_count": 2,
   "id": "30eb2e30-3f71-4b58-98cd-97d602c87667",
   "metadata": {},
   "outputs": [
    {
     "name": "stdout",
     "output_type": "stream",
     "text": [
      "1\n",
      "2\n",
      "3\n",
      "4\n",
      "end \n"
     ]
    }
   ],
   "source": [
    "import sys\n",
    "\n",
    "l = [1,2,3,4]\n",
    "it = iter(l)\n",
    "while True:\n",
    "    try:\n",
    "        print(next(it))\n",
    "    except StopIteration as e:\n",
    "        print('end', e)\n",
    "        break"
   ]
  },
  {
   "cell_type": "markdown",
   "id": "2b697639-9ef8-4ca2-9c11-1bebbc2b8039",
   "metadata": {},
   "source": [
    "### 创建一个迭代器\n",
    "\n",
    "把一个类作为一个迭代器使用需要在类中实现两个方法 `__iter__()` 和 `__next__()`\n",
    "\n",
    "- `__iter()__` 方法返回一个特殊的迭代器对象，这个迭代器对象实现了 `__next__()` 方法并通过 `StopIteration` 异常标识迭代的完成\n",
    "- `__next()` 方法会返回下一个迭代器对象"
   ]
  },
  {
   "cell_type": "code",
   "execution_count": 6,
   "id": "bbc2c80c-a2b0-41b1-b7a9-2336dd8d148e",
   "metadata": {},
   "outputs": [
    {
     "name": "stdout",
     "output_type": "stream",
     "text": [
      "1\n",
      "2\n",
      "3\n",
      "4\n",
      "5\n"
     ]
    }
   ],
   "source": [
    "class MyNumbers:\n",
    "    def __iter__(self):\n",
    "        self.a = 1\n",
    "        return self\n",
    "    def __next__(self):\n",
    "        if self.a <= 5:\n",
    "            x = self.a\n",
    "            self.a += 1\n",
    "            return x\n",
    "        else:\n",
    "            raise StopIteration\n",
    "\n",
    "myclass = MyNumbers()\n",
    "myiter = iter(myclass)\n",
    "\n",
    "for i in myiter:\n",
    "    print(i)"
   ]
  },
  {
   "cell_type": "markdown",
   "id": "a135c3c3-5125-4b4b-a1e4-f87f1a7fefe3",
   "metadata": {},
   "source": [
    "### 生成器\n",
    "\n",
    "在Python中，使用了yield的函数被称为生成器(Generator)\n",
    "\n",
    "和普通函数不同的是，生成器是一个返回迭代器的函数，只能用于迭代操作，更简单理解生成器就是一个迭代器。\n",
    "\n",
    "在调用生成器运行的过程中，每次遇到yield时函数会暂停并保存当前所有的运行信息，返回yield的值，并在下一次调用 `next()` 方法时从当前位置继续运行。\n",
    "\n",
    "> Generator函数和普通函数的执行流程不一样，普通函数是顺序执行，遇到return语句或者最后一行语句就放回。而Generator函数在每次调用 next() 的时候执行，遇到 yield 语句就返回，再次调用next() 的时候会从上次yield的语句后开始执行。"
   ]
  },
  {
   "cell_type": "code",
   "execution_count": null,
   "id": "dade3bd4-9aa5-43ce-bc80-290ef68c0a33",
   "metadata": {},
   "outputs": [],
   "source": [
    "# 创建一个生成器可以推导式 () 实现\n",
    "\n",
    "# g就是一个generator对象\n",
    "g = (x * x for x in range (10))\n",
    "print(g)\n",
    "# 每次调用next，就计算出g的下一个元素的值\n",
    "print(next(g))\n",
    "\n",
    "for n in g:\n",
    "  print(n)"
   ]
  },
  {
   "cell_type": "code",
   "execution_count": 8,
   "id": "ebbf62e7-edd5-404b-9664-e60f2b603fff",
   "metadata": {},
   "outputs": [
    {
     "name": "stdout",
     "output_type": "stream",
     "text": [
      "0 1 1 2 3 5 8 13 21 34 55 \n"
     ]
    }
   ],
   "source": [
    "import sys\n",
    "\n",
    "def fibonacci(n): # 生成器函数\n",
    "    a, b, counter = 0, 1, 0\n",
    "    while True:\n",
    "        if counter > n :\n",
    "            return\n",
    "        yield a\n",
    "        a, b = b, a+b\n",
    "        counter += 1\n",
    "    \n",
    "f = fibonacci(10) # f 是一个迭代器，有生成器返回生成\n",
    "\n",
    "while True:\n",
    "    try:\n",
    "        print(next(f), end=\" \")\n",
    "    except StopIteration as e:\n",
    "        print(e)\n",
    "        break"
   ]
  }
 ],
 "metadata": {
  "kernelspec": {
   "display_name": "Python 3 (ipykernel)",
   "language": "python",
   "name": "python3"
  },
  "language_info": {
   "codemirror_mode": {
    "name": "ipython",
    "version": 3
   },
   "file_extension": ".py",
   "mimetype": "text/x-python",
   "name": "python",
   "nbconvert_exporter": "python",
   "pygments_lexer": "ipython3",
   "version": "3.9.9"
  }
 },
 "nbformat": 4,
 "nbformat_minor": 5
}
