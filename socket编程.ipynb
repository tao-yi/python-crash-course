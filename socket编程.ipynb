{
 "cells": [
  {
   "cell_type": "markdown",
   "id": "ce94769d-dfaf-429a-a81b-a62715ac359a",
   "metadata": {},
   "source": [
    "### Socket\n",
    "\n",
    "socket是进程间通信的一种方式，它的特点是可以实现不同主机间的进程通信。\n",
    "\n",
    "```python\n",
    "import socket\n",
    "\n",
    "socket.socket(AddressFamily, Type)\n",
    "```\n",
    "\n",
    "- `AddressFamily`: 可以选择 `AF_INET` (IPv4) 或者 `AF_INET6` (IPv6)\n",
    "- `Type`: socket类型，可以是 `SOCK_STREAM`用于TCP协议， 或者 `SOCK_DGRAM`用于UDP协议\n",
    "\n",
    "#### 创建 socket\n",
    "```python\n",
    "import socket\n",
    "\n",
    "# 创建tcp socket\n",
    "s = socket.socket(socket.AF_INET, socket.SOCK_STREAM)\n",
    "# 创建udp socket\n",
    "s = socket.socket(socket.AF_INET, socket.SOCK_DGRAM)\n",
    "\n",
    "# 不用的时候释放资源\n",
    "s.close()\n",
    "```\n"
   ]
  },
  {
   "cell_type": "code",
   "execution_count": null,
   "id": "4c60b4cf-c838-4f51-9b43-a3809db49405",
   "metadata": {},
   "outputs": [],
   "source": [
    "import socket\n",
    "\n",
    "s = socket.socket(socket.AF_INET, socket.SOCK_DGRAM)\n",
    "\n",
    "# 绑定本地的ip和端口号\n",
    "# s.bind(('127.0.0.1', '4100'))\n",
    "\n",
    "# ip地址不用写，会使用当前主机的ip\n",
    "s.bind(('', 4100))\n",
    "\n",
    "# python3中通过socket发送数据时要求使用bytes类型的数据\n",
    "s.sendto('hello world!'.encode('utf-8'), ('127.0.0.1', 8080))\n",
    "\n",
    "recv_msg = s.recvfrom(1024) # 1024表示本次接收消息的最大字节数\n",
    "\n",
    "print(recv_msg[0].decode('utf-8'))\n",
    "\n",
    "s.close()"
   ]
  },
  {
   "cell_type": "markdown",
   "id": "de3358d0-51ba-468e-b334-b77572477c80",
   "metadata": {},
   "source": [
    "### 多线程socket服务器"
   ]
  },
  {
   "cell_type": "code",
   "execution_count": 1,
   "id": "45c9d350-f3ed-453e-a3ec-e4cd521f554f",
   "metadata": {},
   "outputs": [],
   "source": [
    "import socket\n",
    "import threading\n",
    "import time\n",
    "from typing import Any\n",
    "\n",
    "HOST = socket.gethostbyname(socket.gethostname())\n",
    "PORT = 8000\n",
    "\n",
    "\n",
    "def handle_request(client_sock: socket.socket, client_addr: Any):\n",
    "    print(f'Connected to {client_addr}')\n",
    "    msg = client_sock.recv(4096)\n",
    "    if msg == \"\":\n",
    "        return\n",
    "    msg = msg.decode('utf-8')\n",
    "    print(f'Received: {msg}')\n",
    "\n",
    "    data = \"HTTP/1.1 200 OK\\r\\n\"\n",
    "    data += \"Content-Type: text/html; charset=utf-8\\r\\n\"\n",
    "    data += \"\\r\\n\"\n",
    "    data += \"<html><body>Hello</body></html>\\r\\n\\r\\n\"\n",
    "    time.sleep(2)\n",
    "    client_sock.sendall(data.encode('utf-8'))\n",
    "    client_sock.close()\n",
    "    # client_socket.shutdown()\n",
    "    print(f'Disconnected from {client_addr}')\n",
    "\n",
    "\n",
    "def main():\n",
    "    server = socket.socket(socket.AF_INET, socket.SOCK_STREAM)\n",
    "\n",
    "    try:\n",
    "        server.bind((HOST, PORT))\n",
    "        # 允许最多5个connection,后续的conn会被拒绝\n",
    "        server.listen()\n",
    "        print(f\"listening to {HOST}:{PORT}\")\n",
    "        while True:\n",
    "            conn = server.accept()\n",
    "            t = threading.Thread(target=handle_request, args=conn)\n",
    "            t.start()\n",
    "\n",
    "    except KeyboardInterrupt:\n",
    "        print(\"shutting down...\\n\")\n",
    "    except Exception as e:\n",
    "        print(\"Error:\\n\")\n",
    "        print(e)\n",
    "    finally:\n",
    "        server.close()"
   ]
  },
  {
   "cell_type": "markdown",
   "id": "817e3312-1519-4426-9e8d-3852175c4335",
   "metadata": {},
   "source": [
    "### socket使用上下文管理器\n",
    "\n",
    "`socket.socket()`可以使用上下文管理器`with` 因为socket()返回的对象实现了 `__enter__` 和 `__exit__` 方法"
   ]
  },
  {
   "cell_type": "code",
   "execution_count": null,
   "id": "feffd1e0-bc6f-46ab-8376-4eb0e4a8ee93",
   "metadata": {},
   "outputs": [],
   "source": []
  }
 ],
 "metadata": {
  "kernelspec": {
   "display_name": "Python 3 (ipykernel)",
   "language": "python",
   "name": "python3"
  },
  "language_info": {
   "codemirror_mode": {
    "name": "ipython",
    "version": 3
   },
   "file_extension": ".py",
   "mimetype": "text/x-python",
   "name": "python",
   "nbconvert_exporter": "python",
   "pygments_lexer": "ipython3",
   "version": "3.9.9"
  }
 },
 "nbformat": 4,
 "nbformat_minor": 5
}
