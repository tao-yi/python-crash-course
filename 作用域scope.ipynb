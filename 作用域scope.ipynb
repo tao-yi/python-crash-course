{
 "cells": [
  {
   "cell_type": "markdown",
   "id": "be51f985-9fd3-4fdc-a728-8718d2531379",
   "metadata": {},
   "source": [
    "### 作用域 Scope\n",
    "\n",
    "在Python程序中直接访问一个变量，会从内到外依次访问所有的作用域直到找到，否则会报未定义错误。\n",
    "\n",
    "Python中，程序的变量并不是在哪个位置都可以访问的。\n",
    "\n",
    "Python的作用域一共有4种，分别是：\n",
    "- `L (Local)`: 最内层，包含局部变量，比如一个函数/方法内部\n",
    "- `E (Enclosing)`：包含了非局部(non-local)也非全局(non-global)的变量，比如两个嵌套函数，函数A里面包含了函数B，那么对于B来说，A的作用域就是 `nonlocal`\n",
    "- `G (Global)` 当前模块的最外层\n",
    "- `B (Built-in)` 内置的变量/关键字等，最后被搜索\n",
    "\n",
    "搜索顺序: `L->E->G->B`\n",
    "\n",
    "\n",
    "```py\n",
    "global = 0        # 全局作用域\n",
    "def outer():\n",
    "    enclosing = 0 # 闭包函数外的作用域\n",
    "    def inner():\n",
    "        local = 0 # 局部作用域\n",
    "```\n",
    "\n",
    "内置作用域(built-in)是通过一个名为 `builtin`的标准模块实现的。\n",
    "\n",
    "```py\n",
    "import builtins\n",
    "dir(builtins) # 查看预定义了哪些变量\n",
    "```\n",
    "\n",
    "Python中只有模块、类、函数(`def`,`lambda`)才会引入新的作用域，其他代码块比如:\n",
    "- `if/elif/else`\n",
    "- `try/except/finally`\n",
    "- `for/while` 等是不会引入新的作用域的，也就是说这些语句内定义的变量在语句外也可以访问"
   ]
  },
  {
   "cell_type": "code",
   "execution_count": 7,
   "id": "99fccc24-25bb-48e7-ac10-40d36c4f0f97",
   "metadata": {},
   "outputs": [
    {
     "name": "stdout",
     "output_type": "stream",
     "text": [
      "5\n",
      "2\n",
      "10\n"
     ]
    }
   ],
   "source": [
    "if True:\n",
    "    a = 5\n",
    "print(a)\n",
    "\n",
    "for i in range(3):\n",
    "    pass\n",
    "\n",
    "print(i)\n",
    "\n",
    "try:\n",
    "    a = 10\n",
    "except Exception as e:\n",
    "    print(e)\n",
    "print(a)"
   ]
  },
  {
   "cell_type": "markdown",
   "id": "93f6e7d4-aa68-4c49-8191-a31937da5797",
   "metadata": {},
   "source": [
    "### global 关键字\n",
    "\n",
    "当内部作用域想要修改外部作用域的变量时，需要使用global"
   ]
  },
  {
   "cell_type": "code",
   "execution_count": 11,
   "id": "6e7f3564-4fbb-4531-b577-fe1ef17b1321",
   "metadata": {},
   "outputs": [
    {
     "name": "stdout",
     "output_type": "stream",
     "text": [
      "函数内部修改前 1\n",
      "函数内部修改后 123\n",
      "函数外部修改后 123\n"
     ]
    }
   ],
   "source": [
    "num = 1\n",
    "def fn1():\n",
    "    global num # 修改全局变量num\n",
    "    print('函数内部修改前',num)\n",
    "    num = 123\n",
    "    print('函数内部修改后',num)\n",
    "    \n",
    "fn1()\n",
    "print('函数外部修改后',num)"
   ]
  },
  {
   "cell_type": "markdown",
   "id": "82e7193a-6ff0-432e-8a6e-8ba0b271f866",
   "metadata": {},
   "source": [
    "### nonlocal关键字\n",
    "\n",
    "如果要修改嵌套作用域，外层而非全局作用域中的变量，需要用nonlocal"
   ]
  },
  {
   "cell_type": "code",
   "execution_count": 16,
   "id": "831c6644-cd7a-4504-811c-db1c4061817c",
   "metadata": {},
   "outputs": [
    {
     "name": "stdout",
     "output_type": "stream",
     "text": [
      "outer before 10\n",
      "inner before 10\n",
      "inner after 100\n",
      "outer after 100\n"
     ]
    }
   ],
   "source": [
    "def outer():\n",
    "    num = 10\n",
    "    print('outer before',num)\n",
    "    def inner():\n",
    "        nonlocal num # num是外层作用域的变量\n",
    "        print('inner before',num)\n",
    "        num = 100\n",
    "        print('inner after',num)\n",
    "    inner()\n",
    "    print('outer after', num)\n",
    "    \n",
    "outer()"
   ]
  }
 ],
 "metadata": {
  "kernelspec": {
   "display_name": "Python 3 (ipykernel)",
   "language": "python",
   "name": "python3"
  },
  "language_info": {
   "codemirror_mode": {
    "name": "ipython",
    "version": 3
   },
   "file_extension": ".py",
   "mimetype": "text/x-python",
   "name": "python",
   "nbconvert_exporter": "python",
   "pygments_lexer": "ipython3",
   "version": "3.9.9"
  }
 },
 "nbformat": 4,
 "nbformat_minor": 5
}
