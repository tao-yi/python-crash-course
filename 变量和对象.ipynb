{
 "cells": [
  {
   "cell_type": "markdown",
   "id": "07e2935b-8b36-4acc-a3d9-ceb080a6fa65",
   "metadata": {},
   "source": [
    "### Python Variables are Pointers\n",
    "\n",
    "在python中，变量是指针。当你定义 `x = 4` 时，你定义了一个名为x的指针，指向一个保存了4的容器。\n",
    "\n",
    "由于Python中的变量只是指针，所以它可以指向各种不同的对象\n",
    "\n",
    "```python\n",
    "x = 1\n",
    "x = 'hello'\n",
    "x = [1,2,3]\n",
    "```\n",
    "\n",
    "Number，String和Tuple都是不可变的数据，你无法修改它们的值。\n",
    "\n",
    "如果你修改了 Number 和 String 的值，其实只是修改了它们的指向，指向修改后的新值，旧的值会被回收。\n",
    "\n",
    "> In Python, we don't actually assign values to the variables. Instead, Python gives the reference of the object(value) to the variable"
   ]
  },
  {
   "cell_type": "code",
   "execution_count": 5,
   "id": "5be55365-878a-4ce7-8b51-62069aa0df63",
   "metadata": {},
   "outputs": [
    {
     "name": "stdout",
     "output_type": "stream",
     "text": [
      "4530456880\n",
      "4574934448\n",
      "4574934448\n"
     ]
    }
   ],
   "source": [
    "x = 1\n",
    "print(id(x))\n",
    "\n",
    "x = 'hello' # x指向另一个对象\n",
    "print(id(x))\n",
    "\n",
    "y = x # y指向x指向的对象\n",
    "print(id(y))"
   ]
  },
  {
   "cell_type": "markdown",
   "id": "32644076-8fa5-442c-aa94-dc30af8dc1fc",
   "metadata": {},
   "source": [
    "### Everything Is an Object\n",
    "\n",
    "Python是一个面向对象的语言，在Python中everything is an object.\n",
    "\n",
    "> Everything in Python is an object, and almost everything has attributes and methods. All functions have a built-in attribute `__doc__`, which returns the `doc string` defined in the function's source code. The `sys` module is an object which has an attribute called `path`.\n",
    "\n",
    "\n",
    "即便是基础数据类型比如 Number 类型\n",
    "- 有属性比如 `real` 和 `imag`\n",
    "- 有方法比如 `is_integer()`, `bit_length()`"
   ]
  },
  {
   "cell_type": "code",
   "execution_count": 8,
   "id": "134573c0-f526-459a-abd4-ab72bf4f2b93",
   "metadata": {},
   "outputs": [
    {
     "name": "stdout",
     "output_type": "stream",
     "text": [
      "4.5 0.0\n"
     ]
    },
    {
     "data": {
      "text/plain": [
       "False"
      ]
     },
     "execution_count": 8,
     "metadata": {},
     "output_type": "execute_result"
    }
   ],
   "source": [
    "x = 4.5\n",
    "\n",
    "print(x.real, x.imag)\n",
    "\n",
    "x.is_integer()"
   ]
  },
  {
   "cell_type": "markdown",
   "id": "dbd8f31a-bb11-42be-bf65-e75cab389576",
   "metadata": {},
   "source": [
    "### Built-in Types: Simple Values\n",
    "\n",
    "Python的基础类型有:\n",
    "- `int`\n",
    "- `flaot`\n",
    "- `complex`\n",
    "- `bool`\n",
    "- `str`\n",
    "- `NoneType`: `x = None` 特殊的对象类型，表示null\n",
    "\n",
    "\n",
    "#### Integers\n",
    "不像C语言中int类型有固定的精度，而且会overflow。\n",
    "\n",
    "Python中的integer精度是可变的。在Python3中，`5/2` 会导致up-cast to floating-point type\n"
   ]
  },
  {
   "cell_type": "code",
   "execution_count": 12,
   "id": "62f4a711-b792-4f16-aaa6-ad1d5877a62b",
   "metadata": {},
   "outputs": [
    {
     "name": "stdout",
     "output_type": "stream",
     "text": [
      "2.5\n"
     ]
    }
   ],
   "source": [
    "a = 5 / 2\n",
    "print(a)"
   ]
  },
  {
   "cell_type": "markdown",
   "id": "42fdbb81-29cd-441e-904d-0aadfdcf2266",
   "metadata": {},
   "source": [
    "### Floating-point Precision\n",
    "\n",
    "注意了，浮点数的精度是有限的，所以会导致 `0.1 + 0.2 == 0.3` 返回 False\n",
    "\n",
    "记住：对浮点数的比较无法精确的进行比较，都是比较它们的近似值。\n"
   ]
  },
  {
   "cell_type": "code",
   "execution_count": 18,
   "id": "4a2da449-167f-435b-a4fb-1160f2b29086",
   "metadata": {},
   "outputs": [
    {
     "name": "stdout",
     "output_type": "stream",
     "text": [
      "False\n",
      "0.1 = 0.10000000000000001\n",
      "0.2 = 0.20000000000000001\n",
      "0.3 = 0.29999999999999999\n"
     ]
    }
   ],
   "source": [
    "a, b, c = 0.1, 0.2, 0.3\n",
    "print(a + b == c)\n",
    "\n",
    "print(\"0.1 = {0:.17f}\".format(0.1))\n",
    "print(\"0.2 = {0:.17f}\".format(0.2))\n",
    "print(\"0.3 = {0:.17f}\".format(0.3))"
   ]
  },
  {
   "cell_type": "markdown",
   "id": "bdffb323-4bfe-4b6d-bc0b-6c4d12d461e6",
   "metadata": {},
   "source": [
    "### None Type\n",
    "Python中有一个特殊的类型，`NoneType`,它只有一个单一的值 `None`\n",
    "\n",
    "最常见使用 `None` 的地方是函数的默认返回值，如果一个函数什么也不返回，它会默认返回 `None`"
   ]
  },
  {
   "cell_type": "code",
   "execution_count": 1,
   "id": "23833d67-6427-4567-b68a-4d3aec4b5e0b",
   "metadata": {},
   "outputs": [
    {
     "name": "stdout",
     "output_type": "stream",
     "text": [
      "abc\n",
      "None\n",
      "True\n",
      "True\n",
      "4377746384\n"
     ]
    }
   ],
   "source": [
    "return_value = print(\"abc\")\n",
    "print(return_value)\n",
    "\n",
    "print(None == None)\n",
    "print(None is None)\n",
    "print(id(None))"
   ]
  },
  {
   "cell_type": "markdown",
   "id": "a030e2ba-4b32-435a-9f31-3e7d2bd9f0cb",
   "metadata": {},
   "source": [
    "### Constants\n",
    "\n",
    "A constant is a type of variable whose value cannot be changed. It is helpful to think of constants as containers that hold information which cannot be changed later.\n",
    "\n",
    "\n",
    "```python\n",
    "# constant.py\n",
    "PI = 3.4\n",
    "GRAVITY = 9.8\n",
    "\n",
    "# main.py\n",
    "import constant\n",
    "print(constant.PI)\n",
    "print(constant.GRAVITY)\n",
    "```"
   ]
  }
 ],
 "metadata": {
  "kernelspec": {
   "display_name": "Python 3 (ipykernel)",
   "language": "python",
   "name": "python3"
  },
  "language_info": {
   "codemirror_mode": {
    "name": "ipython",
    "version": 3
   },
   "file_extension": ".py",
   "mimetype": "text/x-python",
   "name": "python",
   "nbconvert_exporter": "python",
   "pygments_lexer": "ipython3",
   "version": "3.9.9"
  }
 },
 "nbformat": 4,
 "nbformat_minor": 5
}
