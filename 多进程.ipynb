{
 "cells": [
  {
   "cell_type": "markdown",
   "id": "c3d7d582-20b8-4d8f-b71d-ab25d7d77894",
   "metadata": {},
   "source": [
    "### 进程\n",
    "\n"
   ]
  },
  {
   "cell_type": "code",
   "execution_count": 3,
   "id": "d2453aa8-8272-4aee-98f2-252ce544e00c",
   "metadata": {},
   "outputs": [],
   "source": [
    "import multiprocessing\n",
    "from typing import List\n",
    "\n",
    "\n",
    "def fib(n: int):\n",
    "    if n == 0 or n == 1:\n",
    "        return n\n",
    "    return fib(n-1)+fib(n-2)\n",
    "\n",
    "\n",
    "def main():\n",
    "    processes: List[multiprocessing.Process] = []\n",
    "    for _ in range(10):\n",
    "        p = multiprocessing.Process(target=fib, args=(10,))\n",
    "        p.start()\n",
    "\n",
    "    for p in processes:\n",
    "        p.join()"
   ]
  },
  {
   "cell_type": "code",
   "execution_count": null,
   "id": "a4b976ca-3129-4243-afe8-eafa37c7cf2f",
   "metadata": {},
   "outputs": [],
   "source": []
  }
 ],
 "metadata": {
  "kernelspec": {
   "display_name": "Python 3 (ipykernel)",
   "language": "python",
   "name": "python3"
  },
  "language_info": {
   "codemirror_mode": {
    "name": "ipython",
    "version": 3
   },
   "file_extension": ".py",
   "mimetype": "text/x-python",
   "name": "python",
   "nbconvert_exporter": "python",
   "pygments_lexer": "ipython3",
   "version": "3.9.9"
  }
 },
 "nbformat": 4,
 "nbformat_minor": 5
}
