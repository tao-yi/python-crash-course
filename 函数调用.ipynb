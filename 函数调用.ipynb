{
 "cells": [
  {
   "cell_type": "markdown",
   "id": "db0f07b3-3784-4b73-8630-689786dce81b",
   "metadata": {},
   "source": [
    "### 函数调用\n",
    "\n",
    "#### 参数传递\n",
    "\n",
    "在Python中，类型属于对象，**对象有不同类型的区分，变量是没有类型的**。\n",
    "\n",
    "```py\n",
    "\n",
    "a = [1,2,3] # [1,2,3]是List类型\n",
    "\n",
    "a = \"Str\"   # \"Str\" 是String类型\n",
    "```\n",
    "\n",
    "变量 `a` 是没有类型的，它仅仅是一个对象的引用（一个指针），可以指向List类型的对象，也可以指向任何类型的对象。\n",
    "\n",
    "#### 可变对象与不可变对象\n",
    "\n",
    "- 不可变: `a = 5` 后再赋值 `a = 10`，这里实际是生成一个新的int类型的对象，再让a指向它，而5被丢弃。\n",
    "- 可变: `l = [1,2,3]` 然后修改 `l[0] = 4`，这里 `l` 本身没有变，还是指向数组 `list[1,2,3]` 只是list中的值被修改了\n"
   ]
  },
  {
   "cell_type": "code",
   "execution_count": 3,
   "id": "c3d2de37-536c-41a8-ae9d-7e8ee9e6cc3a",
   "metadata": {},
   "outputs": [
    {
     "name": "stdout",
     "output_type": "stream",
     "text": [
      "4349677440\n",
      "4349677440\n"
     ]
    }
   ],
   "source": [
    "a = [1,2,3]\n",
    "print(id(a))\n",
    "\n",
    "# 这里a的指向并没有改变\n",
    "a[0] = 5\n",
    "print(id(a))"
   ]
  },
  {
   "cell_type": "markdown",
   "id": "3d63d1da-35ab-4a75-aefb-b637e8461944",
   "metadata": {},
   "source": [
    "### Python函数的参数传递\n",
    "\n",
    "- 不可变类型：如整数、字符串、元组传递的只是它们的值，不会影响a对象本身，如果在 `fun(a)` 内部修改a的值，则会生成一个新的对象\n",
    "- 可变类型：如列表、字典，将a真正的值传过去，修改后在函数外部也会受到影响。\n",
    "\n",
    "当你调用函数，传入参数的时候，会创建一个新的reference,引用你传入的对象。"
   ]
  },
  {
   "cell_type": "code",
   "execution_count": 15,
   "id": "90a537bc-8833-4039-bd86-c72c5736ba9f",
   "metadata": {},
   "outputs": [
    {
     "name": "stdout",
     "output_type": "stream",
     "text": [
      "[1, 2, 3, 4, 5]\n"
     ]
    }
   ],
   "source": [
    "def add(l):\n",
    "    l.append(5)\n",
    "    \n",
    "m = [1,2,3,4]\n",
    "add(m)\n",
    "print(m)"
   ]
  },
  {
   "cell_type": "markdown",
   "id": "c57f6d1d-4164-44c8-a0db-950b35634ada",
   "metadata": {},
   "source": [
    "### 关键字参数\n",
    "\n",
    "关键字参数允许函数调用时参数的顺序与声明时的顺序不一致，因为Python解释器能够用参数名匹配参数值."
   ]
  },
  {
   "cell_type": "code",
   "execution_count": 16,
   "id": "584e8fe0-8fcf-45bd-8412-214a995eaef0",
   "metadata": {},
   "outputs": [
    {
     "name": "stdout",
     "output_type": "stream",
     "text": [
      "名字:James,年龄:25\n"
     ]
    }
   ],
   "source": [
    "def printinfo(name, age):\n",
    "    print(f'名字:{name},年龄:{age}')\n",
    "\n",
    "# 可以不按照函数声明中的参数顺序\n",
    "printinfo(age=25, name=\"James\")"
   ]
  },
  {
   "cell_type": "markdown",
   "id": "6c30d51d-afed-4cf5-a0eb-3a73d910ab2d",
   "metadata": {},
   "source": [
    "### 匿名函数 lambda\n",
    "\n",
    "- lambda只是一个表达式，而不是一个代码块，只能写有限的逻辑。"
   ]
  },
  {
   "cell_type": "code",
   "execution_count": 14,
   "id": "1d3bd681-fa8f-4e3d-b0cd-213d68ccce1e",
   "metadata": {},
   "outputs": [
    {
     "data": {
      "text/plain": [
       "11"
      ]
     },
     "execution_count": 14,
     "metadata": {},
     "output_type": "execute_result"
    }
   ],
   "source": [
    "b = 5\n",
    "def test():\n",
    "    c = 1\n",
    "    return lambda x: x + b + c\n",
    "\n",
    "l = test()\n",
    "l(5)"
   ]
  },
  {
   "cell_type": "markdown",
   "id": "50ad5d0d-fc16-43f1-b348-a321de0d8f1f",
   "metadata": {},
   "source": [
    "### return语句\n",
    "\n",
    "不带参数的return语句返回 `None`"
   ]
  }
 ],
 "metadata": {
  "kernelspec": {
   "display_name": "Python 3 (ipykernel)",
   "language": "python",
   "name": "python3"
  },
  "language_info": {
   "codemirror_mode": {
    "name": "ipython",
    "version": 3
   },
   "file_extension": ".py",
   "mimetype": "text/x-python",
   "name": "python",
   "nbconvert_exporter": "python",
   "pygments_lexer": "ipython3",
   "version": "3.9.9"
  }
 },
 "nbformat": 4,
 "nbformat_minor": 5
}
