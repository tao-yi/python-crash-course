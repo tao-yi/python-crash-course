{
 "cells": [
  {
   "cell_type": "markdown",
   "id": "c97ad1ff-ab7c-42bb-99f4-140be9e34803",
   "metadata": {},
   "source": [
    "### With关键字\n",
    "\n",
    "在Python中可以使用 `with` 关键字来使用 `context manager` 上下文管理器。\n",
    "\n",
    "不正确地管理资源可能导致内存泄露，包括：\n",
    "- 文件: 释放文件\n",
    "- 锁: 释放锁\n",
    "- 网络连接: 管理网络连接\n",
    "\n",
    "```python\n",
    "file = open(\"hello.txt\", \"w\")\n",
    "file.write(\"hello, world!\")\n",
    "file.close()\n",
    "```\n",
    "\n",
    "上面这段代码并不能保证文件被释放，如果在 `write()` 过程中抛出 exception，那么`close()` 就永远不会被执行。\n",
    "\n",
    "有两种方式可以解决这个问题：\n",
    "1. `try...finally` 代码块\n",
    "2. `with` 代码块\n",
    "\n",
    "### The `try...finally` approach\n",
    "```python\n",
    "# safely open the file\n",
    "file = open('hello.txt', 'w')\n",
    "try:\n",
    "    file.write(\"hello, world!\")\n",
    "except Exception as e:\n",
    "    print(f\"An error occurred while writing to the file: {e}\")\n",
    "finally:\n",
    "    # make sure to close the file after using it\n",
    "    file.close()\n",
    "```\n",
    "\n",
    "the `finally` clause will guarantee that file is properly closed, even if an exception occurs during the call to `.write()` in the try clause.\n",
    "\n",
    "\n",
    "\n",
    "### The `with` Statement Approach\n",
    "\n",
    "> The Python `with` statement creates a **runtime context** that allows you to run a group of statements under the control of a context manager.\n",
    "\n",
    "许多标准库支持 `with` 语句，比如 `open()` 允许你对文件对象使用 `with`\n",
    "\n",
    "```python\n",
    "with expression as target_var:\n",
    "    do_something(target_var)\n",
    "```\n",
    "\n",
    "`expression` 必须返回一个对象，这个对象必须实现 context management protocol，也就是必须实现两个方法：\n",
    "1. `__enter__()` 当with语句进入runtime context时执行\n",
    "2. `__exit__()` 当离开with代码块时执行\n",
    "\n",
    "Here's how the with statement processds when python runs into it\n",
    "\n",
    "1. Call expression to obtain a context manager\n",
    "2. Store the context manager's `__enter__()` and `__exit__()` methods for later use\n",
    "3. Call `.__enter()__` on the context manager and bind its return value to `target_var` if provided\n",
    "4. Execute the `with` code block\n",
    "5. Call `.__exit__()` on the context manager when the with code block finishes\n",
    "\n",
    "In this case, `.__enter__()`, typically provides the setup code. When the block ends, `.__exit__()` automatically gets called and closes the file for you, even if an exception is raised inside the with block.\n",
    "\n",
    "在Python 3.1及以后，with可以创建多个 context manager\n",
    "\n",
    "```python\n",
    "with A() as a, B() as b:\n",
    "    pass\n",
    "```\n",
    "\n",
    "比如你可以同时打开两个文件\n",
    "```python\n",
    "with open(\"input.txt\") as in_file, open(\"output.txt\", \"w\") as out_file:\n",
    "    pass\n",
    "```\n",
    "\n",
    "\n",
    "### Perform High-Precision Calculation\n",
    "\n",
    "Unlike built-int floating-point numbers, the `decimal` module provides a way to adjust the precision to use in a given calculation that involves `Decimal` numbers. The precision defautls to 28 places, but you can change it to meet your problem requirements.\n"
   ]
  },
  {
   "cell_type": "code",
   "execution_count": 6,
   "id": "0f4402ad-1b05-44dd-874a-96e81d8e5feb",
   "metadata": {},
   "outputs": [
    {
     "name": "stdout",
     "output_type": "stream",
     "text": [
      "0.0238095238095238095238095238095238095238095\n",
      "0.02380952380952380952380952381\n"
     ]
    }
   ],
   "source": [
    "from decimal import Decimal, localcontext\n",
    "\n",
    "with localcontext() as ctx:\n",
    "    ctx.prec = 42\n",
    "    print(Decimal(\"1\") / Decimal(\"42\"))\n",
    "\n",
    "# 重新变为28位小数\n",
    "print(Decimal(\"1\") / Decimal(\"42\"))"
   ]
  },
  {
   "cell_type": "markdown",
   "id": "59636346-fe49-48f3-a187-2779fbea199d",
   "metadata": {},
   "source": [
    "Here, `localcontext()` provides a context manager that creates a local decimal context and allows you to perform calculations using a custom precision. In the with code block ,you need to set `.prec` to the new precision you want to use, which is 42 places in the example above. When the `with` code block finishes, the precision is reset back to its default value, 28 places"
   ]
  },
  {
   "cell_type": "markdown",
   "id": "341dc1d0-fdec-4f9d-b835-36ea789ae92e",
   "metadata": {},
   "source": [
    "### Handling Locks in Multithreaded Programs\n",
    "\n",
    "另一个使用了 `with` 语句的标准库是 `threading.Lock`。 这个Lock类提供了源语锁，用来防止多线程下的race condition。\n",
    "\n",
    "你可以用with语句来自动释放锁🔐。\n",
    "\n",
    "```python\n",
    "import threading\n",
    "\n",
    "balance_lock = threading.Lock()\n",
    "balance_lock.acquire()\n",
    "try:\n",
    "    # update the account balance\n",
    "finally:\n",
    "    balance_lock.release()\n",
    "\n",
    "    \n",
    "# use the with pattern\n",
    "with balance_lock:\n",
    "    # update the account balance here\n",
    "```"
   ]
  },
  {
   "cell_type": "markdown",
   "id": "e268bb03-1ba8-4291-9713-b7359a9ac007",
   "metadata": {},
   "source": [
    "### Testing for Exceptions with pytest\n",
    "\n",
    "如果你使用 `pytest` 来测试你的代码，测试函数或者代码块在某些情况下抛出异常，可以使用 `pytest.raises()` 来提供一个context manager\n",
    "\n",
    "```python\n",
    "import pytest\n",
    "\n",
    "with pytest.raises(ZeroDivisionError):\n",
    "    1 / 0\n",
    "    \n",
    "favorites = {\"fruit\": \"apple\", \"pet\": \"dog\"}\n",
    "with pytest.raises(KeyError):\n",
    "    favorites[\"car\"]\n",
    "```\n"
   ]
  },
  {
   "cell_type": "code",
   "execution_count": null,
   "id": "2d428df4-8488-4b42-bd36-b175836d6b47",
   "metadata": {},
   "outputs": [],
   "source": []
  }
 ],
 "metadata": {
  "kernelspec": {
   "display_name": "Python 3 (ipykernel)",
   "language": "python",
   "name": "python3"
  },
  "language_info": {
   "codemirror_mode": {
    "name": "ipython",
    "version": 3
   },
   "file_extension": ".py",
   "mimetype": "text/x-python",
   "name": "python",
   "nbconvert_exporter": "python",
   "pygments_lexer": "ipython3",
   "version": "3.9.9"
  }
 },
 "nbformat": 4,
 "nbformat_minor": 5
}
