{
 "cells": [
  {
   "cell_type": "markdown",
   "id": "69862898-edb2-4fa7-b593-1782044934e0",
   "metadata": {},
   "source": [
    "### Class\n",
    "\n",
    "类有一个名为 `__init__` 的特殊方法，该方法在类实例化时会自动调用，`x = MyClass()`\n",
    "\n",
    "类的方法与普通函数只有一个区别，方法的第一个参数必须是 `self` ，表示类的实例本身，也就是当前对象的地址。"
   ]
  },
  {
   "cell_type": "code",
   "execution_count": 4,
   "id": "618d5b9f-aec8-424c-89f6-ec5e162df94c",
   "metadata": {},
   "outputs": [
    {
     "name": "stdout",
     "output_type": "stream",
     "text": [
      "bird bird\n",
      "4500836272 4500836272\n",
      "Blu 4500788016\n",
      "Woo 4500733040\n"
     ]
    }
   ],
   "source": [
    "class Parrot:\n",
    "    # class attribute\n",
    "    species = \"bird\"\n",
    "    # instance attribute\n",
    "    def __init__(self, name, age):\n",
    "        self.name = name\n",
    "        self.age = age\n",
    "    # instance method\n",
    "    def sing(self, song):\n",
    "        return f'{self.name} sings {self.song}'\n",
    "\n",
    "blu = Parrot(\"Blu\", 10)\n",
    "woo = Parrot(\"Woo\", 15)\n",
    "\n",
    "# access the class attributes\n",
    "print(blu.__class__.species, woo.__class__.species)\n",
    "print(id(blu.__class__.species), id(woo.__class__.species))\n",
    "# access the instance attributes\n",
    "print(blu.name, id(blu.name))\n",
    "print(woo.name, id(woo.name))"
   ]
  },
  {
   "cell_type": "markdown",
   "id": "0d67ad18-bf49-4352-8595-e91577e4b45f",
   "metadata": {},
   "source": [
    "### Inner Class\n",
    "\n",
    "一个inner class可以嵌套在另一个outer class中。\n",
    "\n",
    "inner class只能在outer class内访问。\n"
   ]
  },
  {
   "cell_type": "code",
   "execution_count": 6,
   "id": "dd9f2de1-0ee3-467c-bc89-cf3140a0575b",
   "metadata": {},
   "outputs": [
    {
     "name": "stdout",
     "output_type": "stream",
     "text": [
      "None None\n",
      "(1) (3)\n",
      "(1)->(2)->(3)\n"
     ]
    }
   ],
   "source": [
    "# outer class\n",
    "class LinkedList:\n",
    "\n",
    "    # inner class\n",
    "    class Node:\n",
    "        def __init__(self, val: int = -1, prev=None, next=None):\n",
    "            self.val = val\n",
    "            self.prev = prev\n",
    "            self.next = next\n",
    "\n",
    "        def __str__(self):\n",
    "            return f'({self.val})'\n",
    "\n",
    "    def __init__(self):\n",
    "        self.__head = self.Node()\n",
    "        self.__tail = self.Node()\n",
    "        self.__head.next = self.__tail\n",
    "        self.__tail.prev = self.__head\n",
    "\n",
    "    @property\n",
    "    def head(self):\n",
    "        return self.__head.next if self.__head.next is not self.__tail else None\n",
    "\n",
    "    @property\n",
    "    def tail(self):\n",
    "        return self.__tail.prev if self.__tail.prev is not self.__head else None\n",
    "\n",
    "    def append(self, val: int):\n",
    "        prev = self.__tail.prev\n",
    "        node = self.Node(val)\n",
    "        prev.next = node\n",
    "        node.prev = prev\n",
    "        node.next = self.__tail\n",
    "        self.__tail.prev = node\n",
    "\n",
    "    def __str__(self):\n",
    "        l = []\n",
    "        p = self.head\n",
    "        while p != self.__tail:\n",
    "            l.append(p.__str__())\n",
    "            p = p.next\n",
    "        return \"->\".join(l)\n",
    "\n",
    "\n",
    "l = LinkedList()\n",
    "print(l.head, l.tail)\n",
    "l.append(1)\n",
    "l.append(2)\n",
    "l.append(3)\n",
    "\n",
    "print(l.head, l.tail)\n",
    "print(l)"
   ]
  },
  {
   "cell_type": "markdown",
   "id": "c6b7d8ca-7b60-4428-8376-b409fbbb28b9",
   "metadata": {},
   "source": [
    "### 访问限制\n",
    "\n",
    "在Class内部可以有私有属性和私有方法，只需要在名称前加上两个下划线 `__`\n",
    "\n",
    "在Python中如果属性名以 `__` 开头，就变成了一个私有变量 (private)，只有class内部可以访问。\n",
    "\n"
   ]
  },
  {
   "cell_type": "code",
   "execution_count": 11,
   "id": "5efdfcca-3e3f-41bc-915c-eb5c3b9698af",
   "metadata": {},
   "outputs": [
    {
     "name": "stdout",
     "output_type": "stream",
     "text": [
      "call public_f()\n",
      "James\n",
      "private_f\n"
     ]
    }
   ],
   "source": [
    "class Student:\n",
    "    def __init__(self, name: str, score: int):\n",
    "        # 私有成员变量\n",
    "        self.__name = name\n",
    "        self.__score = score\n",
    "\n",
    "    def __private_f(self):\n",
    "        return \"private_f\"\n",
    "\n",
    "    def public_f(self):\n",
    "        print(\"call public_f()\")\n",
    "        self.__private_f()\n",
    "        \n",
    "    # public getter\n",
    "    @property\n",
    "    def name(self):\n",
    "        return self.__name\n",
    "    \n",
    "    # public setter\n",
    "    @name.setter\n",
    "    def name(self, val: str):\n",
    "        self.__name = val\n",
    "\n",
    "    @property\n",
    "    def score(self):\n",
    "        return self.__score\n",
    "\n",
    "    @score.setter\n",
    "    def score(self, val: int):\n",
    "        if 0 <= val <= 100:\n",
    "            self.__score = val\n",
    "        else:\n",
    "            raise ValueError('bad score')\n",
    "\n",
    "s = Student('James', 97)\n",
    "s.public_f()\n",
    "'''\n",
    "双下划线开头的实例变量其实也能够访问到\n",
    "Python解释器对外把 __name 变量改成了 _Student__name\n",
    "但是强烈建议不要这么做, 因为不同版本的Python解释器可能会把 __name 改成不同的变量名\n",
    "'''\n",
    "print(s._Student__name)\n",
    "print(s._Student__private_f())"
   ]
  },
  {
   "cell_type": "markdown",
   "id": "c3738843-bc64-4cd3-82ac-be256e9f09b8",
   "metadata": {},
   "source": [
    "### 继承\n",
    "\n",
    "Python支持继承"
   ]
  },
  {
   "cell_type": "code",
   "execution_count": 3,
   "id": "ff5d4f30-fc31-484d-8201-6f7b60454719",
   "metadata": {},
   "outputs": [
    {
     "name": "stdout",
     "output_type": "stream",
     "text": [
      "student with grade A is Ab 15 110\n",
      "Ab 15 110\n"
     ]
    }
   ],
   "source": [
    "class People:\n",
    "    # class attribute\n",
    "    name = ''\n",
    "    age = 0\n",
    "    # private class attribute\n",
    "    __weight = 0\n",
    "    def __init__(self, name, age, weight):\n",
    "        self.name = name\n",
    "        self.age = age\n",
    "        self.weight = weight\n",
    "\n",
    "    def speak(self):\n",
    "        print(f\"{self.name} {self.age} {self.weight}\")\n",
    "\n",
    "class Student(People):\n",
    "    grade = ''\n",
    "    def __init__(self, name, age, weight, grade):\n",
    "        # 调用父类的构造方法\n",
    "        People.__init__(self, name,age,weight)\n",
    "        self.grade = grade\n",
    "    # override父类的方法\n",
    "    def speak(self):\n",
    "        print(f\"student with grade {self.grade} is\", end=\" \")\n",
    "        # 调用父类的方法\n",
    "        People.speak(self)\n",
    "\n",
    "s = Student('Ab', 15, 110, 'A')\n",
    "s.speak()\n",
    "# 用子类调用父类的方法\n",
    "super(Student, s).speak()"
   ]
  },
  {
   "cell_type": "markdown",
   "id": "c71c82ae-be2a-4b6e-9a46-2b41f25e46ce",
   "metadata": {},
   "source": [
    "## 多重继承和 `super()`\n",
    "\n"
   ]
  },
  {
   "cell_type": "code",
   "execution_count": 15,
   "id": "f0f3d2b1-09b5-423c-bf32-bec80a2064a4",
   "metadata": {},
   "outputs": [
    {
     "name": "stdout",
     "output_type": "stream",
     "text": [
      "(<class '__main__.Grandson'>, <class '__main__.Son1'>, <class '__main__.Son2'>, <class '__main__.Parent'>, <class 'object'>)\n",
      "Grandson init\n",
      "Son1 init\n",
      "Son2 init\n",
      "Parent init\n"
     ]
    }
   ],
   "source": [
    "class Parent(object):\n",
    "    def __init__(self, name):\n",
    "        print(\"Parent init\")\n",
    "        self.name = name\n",
    "\n",
    "\n",
    "class Son1(Parent):\n",
    "    def __init__(self, name, age, *args, **kwargs):\n",
    "        print(\"Son1 init\")\n",
    "        super().__init__(name, *args, **kwargs)\n",
    "        self.age = age\n",
    "\n",
    "\n",
    "class Son2(Parent):\n",
    "    def __init__(self, name, gender, *args, **kwargs):\n",
    "        print(\"Son2 init\")\n",
    "        super().__init__(name, *args, **kwargs)\n",
    "        self.gender = gender\n",
    "\n",
    "\n",
    "class Grandson(Son1, Son2):\n",
    "    def __init__(self, name, age, gender, job):\n",
    "        print('Grandson init')\n",
    "        super().__init__(name, age, gender)\n",
    "        self.job = job\n",
    "\n",
    "\n",
    "# super具体调用哪个父类取决于__mro__的顺序\n",
    "print(Grandson.__mro__) # print(Grandson.mro())\n",
    "s = Grandson('Name', 1, 'Male', 'Engineer')\n"
   ]
  },
  {
   "cell_type": "markdown",
   "id": "9431ab52-452d-41d8-a4b9-b43bf6d7ce62",
   "metadata": {},
   "source": [
    "### 类的专有方法\n",
    "\n",
    "- `__init__` 构造函数，在生成对象时调用\n",
    "- `__del__` 析构函数，在释放对象时调用\n",
    "- `__repr__` 打印转换\n",
    "- `__setitem__` 按照索引赋值，像列表一样\n",
    "- `__getitem__` 按照索引取值，像列表一样\n",
    "- `__len__` 获得长度\n",
    "- `__add__` 加运算\n",
    "- `__sub__` 减运算\n",
    "- `__mul__` 乘运算"
   ]
  },
  {
   "cell_type": "code",
   "execution_count": 16,
   "id": "42359081-61e8-495a-b09d-eaca0ee42fa7",
   "metadata": {},
   "outputs": [
    {
     "name": "stdout",
     "output_type": "stream",
     "text": [
      "Vector (7, 8)\n"
     ]
    }
   ],
   "source": [
    "class Vector:\n",
    "    def __init__(self, a,b):\n",
    "        self.a = a\n",
    "        self.b = b\n",
    "    \n",
    "    def __str__(self):\n",
    "        return f'Vector ({self.a}, {self.b})'\n",
    "    \n",
    "    def __add__(self, other):\n",
    "        return Vector(self.a + other.a, self.b+other.b)\n",
    "\n",
    "v1 = Vector(2,10)\n",
    "v2 = Vector(5,-2)\n",
    "v3 = v1 + v2\n",
    "print(v3)\n",
    "    "
   ]
  },
  {
   "cell_type": "markdown",
   "id": "558c3057-9296-4259-820d-0badca421ca2",
   "metadata": {},
   "source": [
    "### built-in attributes\n",
    "\n",
    "- `__dict__` 将对象的属性以dict类型返回\n",
    "- `__class__` 实例的类\n",
    "- `__bases__` 实例的所有父类\n",
    "- `__getattribute__` 属性拦截器，"
   ]
  },
  {
   "cell_type": "code",
   "execution_count": 18,
   "id": "9c49754a-d44c-42a3-80a2-de3aa01b04c4",
   "metadata": {},
   "outputs": [
    {
     "name": "stdout",
     "output_type": "stream",
     "text": [
      "{'a': 10, 'b': 20, 'c': 'Hello'}\n"
     ]
    }
   ],
   "source": [
    "class A:\n",
    "    def __init__(self):\n",
    "        self.a = 10\n",
    "        self.b = 20\n",
    "        self.c = \"Hello\"\n",
    "        \n",
    "a = A()\n",
    "print(a.__dict__)"
   ]
  },
  {
   "cell_type": "code",
   "execution_count": 25,
   "id": "5c0413b8-ad59-4c95-bc10-08e5357cc353",
   "metadata": {},
   "outputs": [
    {
     "name": "stdout",
     "output_type": "stream",
     "text": [
      "accessing attribute: a\n",
      "10\n"
     ]
    }
   ],
   "source": [
    "# 属性拦截器\n",
    "class A:\n",
    "    def __init__(self):\n",
    "        self.a = 10\n",
    "        self.b = 20\n",
    "        self.c = \"Hello\"\n",
    "\n",
    "    # 访问属性时如果解释器发现有这个方法，则调用这个方法\n",
    "    def __getattribute__(self, __name: str):\n",
    "        if __name in ('a', 'b', 'c'):\n",
    "            print(f'accessing attribute: {__name}')\n",
    "            return object.__getattribute__(self, __name)\n",
    "        else:\n",
    "            raise Exception(f'attribute {__name} does not exist')\n",
    "\n",
    "\n",
    "a = A()\n",
    "print(a.a)"
   ]
  }
 ],
 "metadata": {
  "kernelspec": {
   "display_name": "Python 3 (ipykernel)",
   "language": "python",
   "name": "python3"
  },
  "language_info": {
   "codemirror_mode": {
    "name": "ipython",
    "version": 3
   },
   "file_extension": ".py",
   "mimetype": "text/x-python",
   "name": "python",
   "nbconvert_exporter": "python",
   "pygments_lexer": "ipython3",
   "version": "3.9.9"
  }
 },
 "nbformat": 4,
 "nbformat_minor": 5
}
