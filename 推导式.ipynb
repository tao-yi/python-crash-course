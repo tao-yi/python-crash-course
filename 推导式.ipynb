{
 "cells": [
  {
   "cell_type": "markdown",
   "id": "a421f569-16da-4877-861e-f738626f5a6b",
   "metadata": {},
   "source": [
    "### Python推导式\n",
    "\n",
    "Python推导式是一种数据处理方式，可以从一个数据序列构建另一个新的数据序列。\n",
    "\n",
    "Python支持各种数据结构的推导式：\n",
    "- 列表(list)推导式\n",
    "- 字典(dict)推导式\n",
    "- 集合(set)推导式\n",
    "- 元组(tuple)推导式"
   ]
  },
  {
   "cell_type": "markdown",
   "id": "b4fcfaaf-14b1-453a-bb30-5541fa10e785",
   "metadata": {
    "tags": []
   },
   "source": [
    "### 列表推导式"
   ]
  },
  {
   "cell_type": "code",
   "execution_count": 3,
   "id": "029fd73d-6ba3-4a3a-9d40-592982ba46b9",
   "metadata": {},
   "outputs": [
    {
     "name": "stdout",
     "output_type": "stream",
     "text": [
      "['ALICE', 'JERRY', 'WENDY', 'SMITH']\n"
     ]
    }
   ],
   "source": [
    "# 过滤掉长度小于等于3的字符串列表，将剩下的字符串转为大写字母\n",
    "names = ['Bob','Tom','alice','Jerry','Wendy','Smith']\n",
    "new_names = [name.upper() for name in names if len(name) > 3]\n",
    "print(new_names)"
   ]
  },
  {
   "cell_type": "code",
   "execution_count": 5,
   "id": "4425ac9c-a987-4c9a-9d06-a1391965425d",
   "metadata": {},
   "outputs": [
    {
     "name": "stdout",
     "output_type": "stream",
     "text": [
      "[0, 3, 6, 9, 12, 15, 18, 21, 24, 27]\n"
     ]
    }
   ],
   "source": [
    "# 计算30以内可以被3整除的整数\n",
    "l = [num for num in range(30) if num % 3 == 0]\n",
    "print(l)"
   ]
  },
  {
   "cell_type": "markdown",
   "id": "6c25d51a-9a4a-42ea-8b59-cc3dfcee1cbc",
   "metadata": {},
   "source": [
    "### 嵌套列表推导式\n",
    "\n",
    "可以生成一个多维数组，也可以用来双循环两个列表。"
   ]
  },
  {
   "cell_type": "code",
   "execution_count": 9,
   "id": "1985bc59-3f9b-4ac1-b893-2cc671654132",
   "metadata": {},
   "outputs": [
    {
     "name": "stdout",
     "output_type": "stream",
     "text": [
      "[8, 6, -18, 16, 12, -36, 24, 18, -54]\n",
      "[[1, 1, 1, 1], [1, 1, 1, 1], [1, 1, 1, 1], [1, 1, 1, 1]]\n",
      "[[False, False, False, False], [False, False, False, False], [False, False, False, False], [False, False, False, False]]\n"
     ]
    }
   ],
   "source": [
    "vec1 = [2,4,6]\n",
    "vec2 = [4,3,-9]\n",
    "vec3 = [x*y for x in vec1 for y in vec2]\n",
    "print(vec3)\n",
    "\n",
    "# 生成多维列表\n",
    "c = [[1] * 4  for i in range(4)]\n",
    "print(c)\n",
    "\n",
    "c = [[False] * 4 for i in range(4)]\n",
    "print(c)"
   ]
  },
  {
   "cell_type": "markdown",
   "id": "bb638af2-c65e-4427-99af-3f45eee34edc",
   "metadata": {},
   "source": [
    "### 字典推导式\n",
    "\n",
    "```\n",
    "{ key_expr: value_expr for value in collection if condition }\n",
    "```"
   ]
  },
  {
   "cell_type": "code",
   "execution_count": 8,
   "id": "e3effe05-5c63-473d-bcf3-998605d43dc7",
   "metadata": {},
   "outputs": [
    {
     "name": "stdout",
     "output_type": "stream",
     "text": [
      "{'Google': 6, 'Runoob': 6, 'Taobao': 6}\n"
     ]
    }
   ],
   "source": [
    "# 根据列表生成键值对\n",
    "listdemo = ['Google','Runoob', 'Taobao']\n",
    "list_dict = {key: len(key) for key in listdemo}\n",
    "print(list_dict)"
   ]
  },
  {
   "cell_type": "code",
   "execution_count": 10,
   "id": "e3c6ae6a-c2f1-4321-a9a5-a12b05c15148",
   "metadata": {},
   "outputs": [
    {
     "name": "stdout",
     "output_type": "stream",
     "text": [
      "{'a': 97, 'b': 98, 'c': 99, 'd': 100}\n"
     ]
    }
   ],
   "source": [
    "# 生成字母和对应的unicode code point\n",
    "chars = ['a','b','c','d']\n",
    "char_dict = {key: ord(key) for key in chars}\n",
    "print(char_dict)"
   ]
  },
  {
   "cell_type": "markdown",
   "id": "8e5ca783-e00d-478d-a7f3-dec3a8d9e6eb",
   "metadata": {},
   "source": [
    "### 集合推导式"
   ]
  },
  {
   "cell_type": "code",
   "execution_count": 13,
   "id": "06ef62e8-d3b7-439f-9fa1-8dee4a2c0944",
   "metadata": {},
   "outputs": [
    {
     "name": "stdout",
     "output_type": "stream",
     "text": [
      "{'d', 'r'}\n"
     ]
    }
   ],
   "source": [
    "# 过滤掉set中是'a' 'b' 'c'的字符\n",
    "setnew = {x for x in 'abracadabra' if x not in 'abc'} \n",
    "print(setnew)"
   ]
  },
  {
   "cell_type": "markdown",
   "id": "193f23d0-ee92-41d5-b783-c3d850e3748b",
   "metadata": {},
   "source": [
    "### 元组推导式\n",
    "\n",
    "元组推导式返回的结果是一个生成器对象"
   ]
  },
  {
   "cell_type": "code",
   "execution_count": 15,
   "id": "1ae4f316-c029-488f-8917-290c225ac187",
   "metadata": {},
   "outputs": [
    {
     "name": "stdout",
     "output_type": "stream",
     "text": [
      "(1, 2, 3, 4, 5, 6, 7, 8, 9)\n"
     ]
    }
   ],
   "source": [
    "a = (x for x in range(1,10))\n",
    "print(tuple(a))"
   ]
  }
 ],
 "metadata": {
  "kernelspec": {
   "display_name": "Python 3 (ipykernel)",
   "language": "python",
   "name": "python3"
  },
  "language_info": {
   "codemirror_mode": {
    "name": "ipython",
    "version": 3
   },
   "file_extension": ".py",
   "mimetype": "text/x-python",
   "name": "python",
   "nbconvert_exporter": "python",
   "pygments_lexer": "ipython3",
   "version": "3.9.9"
  }
 },
 "nbformat": 4,
 "nbformat_minor": 5
}
