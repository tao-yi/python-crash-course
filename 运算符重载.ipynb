{
 "cells": [
  {
   "cell_type": "markdown",
   "id": "e264f292-2bcc-4b66-b8eb-7d40ebe4955a",
   "metadata": {},
   "source": [
    "### Python Operator Overloading\n",
    "\n",
    "Python operators work for built-in classes. But the same operator behaves differently with different types.\n",
    "\n",
    "\n",
    "#### Special Functions\n",
    "特殊函数是以双下划线开头 `__`，比如 `__init__()`。\n",
    "\n",
    "#### Operator\n",
    "\n",
    "- `p1+p2` => `p1.__add__(p2)`\n",
    "- `p1-p2` => `p1.__sub__(p2)`\n",
    "- `p1*p2` => `p1.__mul__(p2)`\n",
    "- `p1/p2` => `p1.__truediv__(p2)`\n",
    "- `p1//p2` => `p1.__floordiv__(p2)`\n",
    "- `p1%p2` => `p1.__mod__(p2)`\n",
    "- `p1&p2` => `p1.__and__(p2)`\n",
    "\n",
    "#### 比较运算符"
   ]
  },
  {
   "cell_type": "code",
   "execution_count": 5,
   "id": "a8d009ca-e163-42a7-a0de-a150fd9bf9fc",
   "metadata": {},
   "outputs": [
    {
     "name": "stdout",
     "output_type": "stream",
     "text": [
      "(1,2) (2,3)\n",
      "(3,5) True\n",
      "4400394000 4400390784\n",
      "True False\n"
     ]
    }
   ],
   "source": [
    "class Point:\n",
    "    def __init__(self, x=0, y=0):\n",
    "        self.x = x\n",
    "        self.y = y\n",
    "        \n",
    "    def __str__(self):\n",
    "        return f'({self.x},{self.y})'\n",
    "    \n",
    "    def __add__(self, other):\n",
    "        x = self.x + other.x\n",
    "        y = self.y + other.y\n",
    "        return Point(x,y)\n",
    "    \n",
    "    def __eq__(self, other:'Point')->bool:\n",
    "        return self.x == other.x and self.y == other.y\n",
    "    \n",
    "    def __lt__(self, other:'Point')->bool:\n",
    "        return self.x < other.x and self.y < other.y\n",
    "\n",
    "        \n",
    "p1 = Point(1,2)\n",
    "p2 = Point(2,3)\n",
    "p3 = Point(1,2)\n",
    "print(p1,p2)\n",
    "print(p1+p2, p1 < p2)\n",
    "print(id(p1), id(p3))\n",
    "print(p1 == p3, p1 is p3)"
   ]
  }
 ],
 "metadata": {
  "kernelspec": {
   "display_name": "Python 3 (ipykernel)",
   "language": "python",
   "name": "python3"
  },
  "language_info": {
   "codemirror_mode": {
    "name": "ipython",
    "version": 3
   },
   "file_extension": ".py",
   "mimetype": "text/x-python",
   "name": "python",
   "nbconvert_exporter": "python",
   "pygments_lexer": "ipython3",
   "version": "3.9.9"
  }
 },
 "nbformat": 4,
 "nbformat_minor": 5
}
