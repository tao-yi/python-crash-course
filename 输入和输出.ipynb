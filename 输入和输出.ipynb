{
 "cells": [
  {
   "cell_type": "markdown",
   "id": "3068a0c9-c7db-4098-ae53-b0b3ae0e32ad",
   "metadata": {},
   "source": [
    "### 输出格式美化\n",
    "\n",
    "Python两种输出值的方式：表达式语句`repr()`和`print()`函数\n",
    "\n",
    "第三种方式是使用文件对象的 `write()` 方法，标准输出文件可以用 `sys.stdout` 引用。\n",
    "\n",
    "- `str()` 函数返回一个字符对象\n",
    "- `repr()` 生成一个解释器易读的表达形式"
   ]
  },
  {
   "cell_type": "code",
   "execution_count": 3,
   "id": "bae66036-3930-40fb-996c-f5f30609ac1f",
   "metadata": {},
   "outputs": [
    {
     "name": "stdout",
     "output_type": "stream",
     "text": [
      "hello, world!\n",
      "\n",
      "'hello, world!\\n'\n"
     ]
    }
   ],
   "source": [
    "hello = 'hello, world!\\n'\n",
    "print(hello)\n",
    "print(repr(hello))"
   ]
  },
  {
   "cell_type": "code",
   "execution_count": null,
   "id": "53ac2c6d-72e2-4899-b71a-1ed312cbc147",
   "metadata": {},
   "outputs": [],
   "source": [
    "### 读和写文件\n",
    "\n",
    "`open()`将会返回一个file对象，基本语法如下：\n",
    "\n",
    "```py\n",
    "open(filename, mode)\n",
    "```\n",
    "\n",
    "- `filename`: 你要访问的文件名\n",
    "- `mode`: 打开文件的模式，只读，写入，追加等，默认值是只读`r`\n",
    "\n",
    "\n",
    "#### 打开文件的模式\n",
    "- `r` 以只读方式打开，文件的指针会放在文件开头，这是默认模式\n",
    "- `rb` 以二进制格式打开一个文件，只读\n",
    "- `r+` 打开一个文件用于读写\n",
    "- `rb+` 以二进制格式打开一个文件用于读写\n",
    "- `w` 打开一个文件只用于写入，如果该文件已存在则打开文件，并从头开始编辑，即原有内容会被删除。如果该文件不存在，创建新文件\n",
    "- `w+` 打开一个文件用于读写，如果已存在则打开文件，将原有内容删除，如果不存在则创建新文件\n",
    "- `wb+` 以二进制格式打开一个文件用于读写。如果该文件已存在则打开文件，并从头开始编辑，如果不存在则创建新文件。\n",
    "- `a` 打开一个文件用于追加。如果该文件已存在，文件指针会放在文件的结尾，新的内容会追加到已有内容之后。\n",
    "- `a+` 如果文件不存在，创建新文件。\n",
    "\n",
    "![image.png](attachment:10aa8b50-5084-41c0-a62b-6bcf9945e053.png)"
   ]
  }
 ],
 "metadata": {
  "kernelspec": {
   "display_name": "Python 3 (ipykernel)",
   "language": "python",
   "name": "python3"
  },
  "language_info": {
   "codemirror_mode": {
    "name": "ipython",
    "version": 3
   },
   "file_extension": ".py",
   "mimetype": "text/x-python",
   "name": "python",
   "nbconvert_exporter": "python",
   "pygments_lexer": "ipython3",
   "version": "3.9.9"
  }
 },
 "nbformat": 4,
 "nbformat_minor": 5
}
