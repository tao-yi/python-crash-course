{
 "cells": [
  {
   "cell_type": "markdown",
   "id": "11d10a12-27ef-41c8-b1ae-3686e16ec675",
   "metadata": {},
   "source": [
    "## 线程\n",
    "\n",
    "每个线程都有自己的一组CPU寄存器，称为线程的上下文，该上线文反映了线程上次运行该线程的CPU寄存器的状态。\n",
    "\n",
    "### 使用threading模块创建线程\n",
    "我们可以通过直接从 `threading.Thread` 继承创建一个新的子类，并实例化后调用 `start()` 方法启动新线程。\n",
    "\n"
   ]
  },
  {
   "cell_type": "code",
   "execution_count": 1,
   "id": "d6bcde1e-dc0e-4de4-9651-b2a9d015c881",
   "metadata": {},
   "outputs": [
    {
     "name": "stdout",
     "output_type": "stream",
     "text": [
      "Sleeping 1.5 second...\n",
      "Sleeping 1.5 second...\n",
      "Sleeping 1.5 second...\n",
      "Sleeping 1.5 second...\n",
      "Sleeping 1.5 second...\n",
      "Sleeping 1.5 second...\n",
      "Sleeping 1.5 second...\n",
      "Sleeping 1.5 second...\n",
      "Sleeping 1.5 second...\n",
      "Sleeping 1.5 second...\n",
      "Done Sleeping...Done Sleeping...\n",
      "\n",
      "Done Sleeping...\n",
      "Done Sleeping...\n",
      "Done Sleeping...\n",
      "Done Sleeping...\n",
      "Done Sleeping...\n",
      "Done Sleeping...\n",
      "Done Sleeping...\n",
      "Done Sleeping...\n",
      "Finished in 1.51 second(s)\n"
     ]
    }
   ],
   "source": [
    "import threading\n",
    "import time\n",
    "from typing import List\n",
    "\n",
    "start = time.perf_counter()\n",
    "\n",
    "\n",
    "def do_something(seconds):\n",
    "    print(f'Sleeping {seconds} second...')\n",
    "    time.sleep(seconds)\n",
    "    print('Done Sleeping...')\n",
    "\n",
    "\n",
    "threads: List[threading.Thread] = []\n",
    "\n",
    "for _ in range(10):\n",
    "    t = threading.Thread(target=do_something, args=[1.5])\n",
    "    t.start()\n",
    "    threads.append(t)\n",
    "\n",
    "for t in threads:\n",
    "    t.join()\n",
    "\n",
    "finish = time.perf_counter()\n",
    "\n",
    "print(f'Finished in {round(finish-start,2)} second(s)')"
   ]
  },
  {
   "cell_type": "markdown",
   "id": "dcc1faf8-41fd-4cd5-8329-cdf11cebbc3c",
   "metadata": {},
   "source": [
    "### ThreadPoolExecutor\n",
    "\n",
    "从Python3.2开始，标准库为我们提供了`concurrent.futures`模块，它提供了`ThreadPoolExecutor`线程池和`ProcessPoolExecutor`进程池两个类。\n",
    "\n",
    "\n",
    "你可以选择按照完成的先后顺序返回results\n",
    "```python\n",
    "for f in concurrent.futures.as_completed(results):\n",
    "```\n",
    "\n",
    "也可以选择按照启动的先后顺序返回results\n",
    "```python\n",
    "results = executor.map(do_something, secs)\n",
    "for r in results:\n",
    "    print(r)\n",
    "```"
   ]
  },
  {
   "cell_type": "code",
   "execution_count": 4,
   "id": "95eb13c7-665f-4d51-92b0-740000b58a16",
   "metadata": {},
   "outputs": [
    {
     "name": "stdout",
     "output_type": "stream",
     "text": [
      "Sleeping 5 second...Sleeping 4 second...,,Sleeping 3 second...,Sleeping 2 second...,Sleeping 1 second...,Done Sleeping 1 second...,Done Sleeping 2 second...,Done Sleeping 3 second...,Done Sleeping 4 second...,Done Sleeping 5 second...,Finished in 5.01 second(s)\n"
     ]
    }
   ],
   "source": [
    "import concurrent.futures\n",
    "import time\n",
    "\n",
    "start = time.perf_counter()\n",
    "\n",
    "def do_something(seconds):\n",
    "    print(f'Sleeping {seconds} second...', end=\",\")\n",
    "    time.sleep(seconds)\n",
    "    return f'Done Sleeping {seconds} second...'\n",
    "\n",
    "with concurrent.futures.ThreadPoolExecutor() as executor:\n",
    "    secs = [5, 4, 3, 2, 1]\n",
    "    results = [executor.submit(do_something, sec) for sec in secs]\n",
    "    for f in concurrent.futures.as_completed(results):\n",
    "        print(f.result(), end=\",\")\n",
    "\n",
    "finish = time.perf_counter()\n",
    "\n",
    "print(f'Finished in {round(finish-start,2)} second(s)')"
   ]
  },
  {
   "cell_type": "code",
   "execution_count": 5,
   "id": "e0bb2f1d-4936-4556-b249-25251d47eda0",
   "metadata": {},
   "outputs": [
    {
     "name": "stdout",
     "output_type": "stream",
     "text": [
      "Sleeping 5 second...Sleeping 4 second...,,Sleeping 3 second...,Sleeping 2 second...,Sleeping 1 second...,Done Sleeping 5 second...\n",
      "Done Sleeping 4 second...\n",
      "Done Sleeping 3 second...\n",
      "Done Sleeping 2 second...\n",
      "Done Sleeping 1 second...\n"
     ]
    }
   ],
   "source": [
    "with concurrent.futures.ThreadPoolExecutor() as executor:\n",
    "    secs = [5, 4, 3, 2, 1]\n",
    "    results = executor.map(do_something, secs)\n",
    "    for r in results:\n",
    "        print(r)"
   ]
  },
  {
   "cell_type": "markdown",
   "id": "5e8a66c4-0d27-4a0c-a7b2-43b95762576d",
   "metadata": {},
   "source": [
    "### demo: 批量下载图片\n",
    "\n",
    "并发处理requests请求下载图片\n"
   ]
  },
  {
   "cell_type": "code",
   "execution_count": 7,
   "id": "5fbd423c-a9f0-49d4-9e22-0cfe543bff2f",
   "metadata": {},
   "outputs": [
    {
     "name": "stdout",
     "output_type": "stream",
     "text": [
      "start downloading photo-1516117172878-fd2c41f4a759start downloading photo-1532009324734-20a7a5813719\n",
      "\n",
      "start downloading photo-1524429656589-6633a470097c\n",
      "start downloading photo-1530224264768-7ff8c1789d79\n",
      "start downloading photo-1564135624576-c5c88640f235\n",
      "start downloading photo-1541698444083-023c97d3f4b6\n",
      "start downloading photo-1522364723953-452d3431c267\n",
      "start downloading photo-1513938709626-033611b8cc03\n",
      "start downloading photo-1507143550189-fed454f93097\n",
      "start downloading photo-1493976040374-85c8e12f0c0e\n",
      "start downloading photo-1504198453319-5ce911bafcde\n",
      "start downloading photo-1530122037265-a5f1f91d3b99\n",
      "start downloading photo-1516972810927-80185027ca84\n",
      "start downloading photo-1550439062-609e1531270e\n",
      "start downloading photo-1549692520-acc6669e2f0c\n",
      "photo-1516117172878-fd2c41f4a759.jpg was downloaded...\n",
      "photo-1507143550189-fed454f93097.jpg was downloaded...\n",
      "photo-1564135624576-c5c88640f235.jpg was downloaded...\n",
      "photo-1549692520-acc6669e2f0c.jpg was downloaded...\n",
      "photo-1516972810927-80185027ca84.jpg was downloaded...\n",
      "photo-1530224264768-7ff8c1789d79.jpg was downloaded...\n",
      "photo-1504198453319-5ce911bafcde.jpg was downloaded...\n",
      "photo-1522364723953-452d3431c267.jpg was downloaded...\n",
      "photo-1532009324734-20a7a5813719.jpg was downloaded...\n",
      "photo-1550439062-609e1531270e.jpg was downloaded...\n",
      "photo-1524429656589-6633a470097c.jpg was downloaded...\n",
      "photo-1513938709626-033611b8cc03.jpg was downloaded...\n",
      "photo-1530122037265-a5f1f91d3b99.jpg was downloaded...\n",
      "photo-1541698444083-023c97d3f4b6.jpg was downloaded...\n",
      "photo-1493976040374-85c8e12f0c0e.jpg was downloaded...\n",
      "Finished in 15.319747790999827 seconds\n"
     ]
    }
   ],
   "source": [
    "import concurrent.futures\n",
    "import time\n",
    "\n",
    "import requests\n",
    "\n",
    "img_urls = [\n",
    "    'https://images.unsplash.com/photo-1516117172878-fd2c41f4a759',\n",
    "    'https://images.unsplash.com/photo-1532009324734-20a7a5813719',\n",
    "    'https://images.unsplash.com/photo-1524429656589-6633a470097c',\n",
    "    'https://images.unsplash.com/photo-1530224264768-7ff8c1789d79',\n",
    "    'https://images.unsplash.com/photo-1564135624576-c5c88640f235',\n",
    "    'https://images.unsplash.com/photo-1541698444083-023c97d3f4b6',\n",
    "    'https://images.unsplash.com/photo-1522364723953-452d3431c267',\n",
    "    'https://images.unsplash.com/photo-1513938709626-033611b8cc03',\n",
    "    'https://images.unsplash.com/photo-1507143550189-fed454f93097',\n",
    "    'https://images.unsplash.com/photo-1493976040374-85c8e12f0c0e',\n",
    "    'https://images.unsplash.com/photo-1504198453319-5ce911bafcde',\n",
    "    'https://images.unsplash.com/photo-1530122037265-a5f1f91d3b99',\n",
    "    'https://images.unsplash.com/photo-1516972810927-80185027ca84',\n",
    "    'https://images.unsplash.com/photo-1550439062-609e1531270e',\n",
    "    'https://images.unsplash.com/photo-1549692520-acc6669e2f0c'\n",
    "]\n",
    "\n",
    "t1 = time.perf_counter()\n",
    "\n",
    "def download_image(img_url: str):\n",
    "    img_name = img_url.split(\"/\")[3]\n",
    "    print(f'start downloading {img_name}')\n",
    "    img_bytes = requests.get(img_url).content\n",
    "    img_name = f'{img_name}.jpg'\n",
    "    with open('./images/'+img_name, 'wb') as img_file:\n",
    "        img_file.write(img_bytes)\n",
    "        print(f'{img_name} was downloaded...')\n",
    "\n",
    "with concurrent.futures.ThreadPoolExecutor() as executor:\n",
    "    executor.map(download_image, img_urls)\n",
    "\n",
    "# for img_url in img_urls:\n",
    "#     download_image(img_url)\n",
    "\n",
    "t2 = time.perf_counter()\n",
    "\n",
    "print(f'Finished in {t2-t1} seconds')"
   ]
  },
  {
   "cell_type": "code",
   "execution_count": null,
   "id": "b12fb5f2-23b3-46eb-944c-6445e721cc90",
   "metadata": {},
   "outputs": [],
   "source": []
  }
 ],
 "metadata": {
  "kernelspec": {
   "display_name": "Python 3 (ipykernel)",
   "language": "python",
   "name": "python3"
  },
  "language_info": {
   "codemirror_mode": {
    "name": "ipython",
    "version": 3
   },
   "file_extension": ".py",
   "mimetype": "text/x-python",
   "name": "python",
   "nbconvert_exporter": "python",
   "pygments_lexer": "ipython3",
   "version": "3.9.9"
  }
 },
 "nbformat": 4,
 "nbformat_minor": 5
}
