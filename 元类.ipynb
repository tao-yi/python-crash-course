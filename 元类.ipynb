{
 "cells": [
  {
   "cell_type": "markdown",
   "id": "ab3592a4-2132-46d9-8157-1ebb8b9359e5",
   "metadata": {},
   "source": [
    "### metaclass 元类\n",
    "\n",
    "类也是对象，在大多数编程语言中，类就是一组用来描述如何生成一个对象的代码段。\n",
    "\n",
    "元类，就是一个特殊的类，用来专门创建其他的类的类。\n",
    "\n",
    "根据metaclass创建出类，然后根据类创建出实例对象。\n",
    "\n",
    "`metaclass(type)` -> `class对象` -> `object`\n",
    "\n",
    "Python中的类同样也是一种对象。只要你使用 `class`，Python解释器在执行的时候就会创建一个对象。\n",
    "\n",
    "```python\n",
    "class ObjectCreator:\n",
    "    pass\n",
    "```\n",
    "\n",
    "将在内存中创建一个对象，名字就是`ObjectCreator`。这个对象拥有创建实例对象的能力。\n",
    "但是，它的本质仍然是一个对象，于是乎你可以对它做出如下的操作：\n",
    "1. 可以赋值给一个变量\n",
    "2. 可以进行拷贝\n",
    "3. 可以为它增加属性\n",
    "4. 可以将它作为函数参数进行传递\n",
    "\n"
   ]
  },
  {
   "cell_type": "code",
   "execution_count": 3,
   "id": "3cf39f6a-04aa-42d2-8e6f-99f24321f3db",
   "metadata": {},
   "outputs": [
    {
     "name": "stdout",
     "output_type": "stream",
     "text": [
      "140272274363440\n",
      "True\n",
      "False\n",
      "True\n"
     ]
    }
   ],
   "source": [
    "class A:\n",
    "    pass\n",
    "\n",
    "\n",
    "print(id(A))\n",
    "\n",
    "\n",
    "b = A\n",
    "\n",
    "a = b()\n",
    "\n",
    "print(isinstance(a, A))\n",
    "print(hasattr(A, 'test'))\n",
    "\n",
    "A.test = 5\n",
    "\n",
    "print(hasattr(A, 'test'))"
   ]
  },
  {
   "cell_type": "markdown",
   "id": "305eb5ca-d813-4090-82eb-f71be2b91817",
   "metadata": {},
   "source": [
    "### class也是对象，也可以作为函数的返回值"
   ]
  },
  {
   "cell_type": "code",
   "execution_count": 7,
   "id": "4fff624e-9cce-4313-a3d0-c669b3985c2d",
   "metadata": {},
   "outputs": [
    {
     "name": "stdout",
     "output_type": "stream",
     "text": [
      "<class '__main__.choose_class.<locals>.Foo'>\n",
      "<class '__main__.choose_class.<locals>.Bar'>\n"
     ]
    }
   ],
   "source": [
    "def choose_class(name):\n",
    "    if name == 'foo':\n",
    "        class Foo:\n",
    "            pass\n",
    "        return Foo\n",
    "    else:\n",
    "        class Bar:\n",
    "            pass\n",
    "        return Bar\n",
    "\n",
    "\n",
    "a = choose_class('foo')\n",
    "foo = a()\n",
    "print(foo.__class__)\n",
    "\n",
    "b = choose_class('bar')\n",
    "bar = b()\n",
    "print(bar.__class__)"
   ]
  },
  {
   "cell_type": "markdown",
   "id": "b02f2598-290c-4e24-94ad-04501111a9bf",
   "metadata": {
    "tags": []
   },
   "source": [
    "### 使用`type()`创建带有属性的类\n",
    "\n",
    "`type` 除了返回数据的类型外，也可以用来创建一个类。\n",
    "\n",
    "```python\n",
    "Foo = type('Foo', (), {'bar': True})\n",
    "```\n",
    "\n",
    "可以翻译为：\n",
    "\n",
    "```python\n",
    "class Foo:\n",
    "    bar = True\n",
    "```\n",
    "\n",
    "你也可以继承这个类\n",
    "\n",
    "```python\n",
    "# (Foo,) 表示继承Foo类\n",
    "Foo = type('Foo', (), {'bar': True})\n",
    "\n",
    "\n",
    "def echo_bar(self):\n",
    "    print(self.bar)\n",
    "\n",
    "\n",
    "FooChild = type('FooCHild', (Foo,), {'echo_bar': echo_bar})\n",
    "\n",
    "print(hasattr(FooChild, 'echo_bar'))\n",
    "\n",
    "\n",
    "f = FooChild()\n",
    "f.echo_bar()\n",
    "```\n",
    "\n",
    "> type函数实际上就是一个元类。type就是Python在背后用来创建所有类的元类。那为什么type会采用小写而不是 `Type` 呢？可能是为了和 `str`, `int` 这些用来创建类的函数保持一致。\n",
    "\n",
    "> Python中的所有东西，都是对象，包括整数，字符串，函数以及类。它们都是从一个元类创建而来，就是`type`"
   ]
  },
  {
   "cell_type": "code",
   "execution_count": 8,
   "id": "95786c98-4540-42db-8053-c6d87acbd0e9",
   "metadata": {},
   "outputs": [
    {
     "name": "stdout",
     "output_type": "stream",
     "text": [
      "<class 'type'>\n"
     ]
    }
   ],
   "source": [
    "class A:\n",
    "    pass\n",
    "\n",
    "print(A.__class__)"
   ]
  }
 ],
 "metadata": {
  "kernelspec": {
   "display_name": "Python 3 (ipykernel)",
   "language": "python",
   "name": "python3"
  },
  "language_info": {
   "codemirror_mode": {
    "name": "ipython",
    "version": 3
   },
   "file_extension": ".py",
   "mimetype": "text/x-python",
   "name": "python",
   "nbconvert_exporter": "python",
   "pygments_lexer": "ipython3",
   "version": "3.9.9"
  }
 },
 "nbformat": 4,
 "nbformat_minor": 5
}
